{
 "cells": [
  {
   "cell_type": "markdown",
   "metadata": {
    "colab_type": "text",
    "id": "fg4TZqdXoHBx"
   },
   "source": [
    "### 1) Import all necessary libraries"
   ]
  },
  {
   "cell_type": "code",
   "execution_count": 1,
   "metadata": {
    "colab": {
     "autoexec": {
      "startup": false,
      "wait_interval": 0
     },
     "base_uri": "https://localhost:8080/",
     "height": 107
    },
    "colab_type": "code",
    "executionInfo": {
     "elapsed": 1125,
     "status": "ok",
     "timestamp": 1526786485669,
     "user": {
      "displayName": "SRIHA Mohamed",
      "photoUrl": "//lh5.googleusercontent.com/-XM6rLh3fxpo/AAAAAAAAAAI/AAAAAAAAAAA/W_br5yKx7q8/s50-c-k-no/photo.jpg",
      "userId": "101590173883877601113"
     },
     "user_tz": 240
    },
    "id": "okdBWr4VoHBy",
    "outputId": "9551cd8b-c34b-4c61-ccac-581a77bd83d9"
   },
   "outputs": [
    {
     "name": "stderr",
     "output_type": "stream",
     "text": [
      "C:\\Users\\medSr\\AppData\\Local\\Continuum\\anaconda3\\lib\\site-packages\\sklearn\\cross_validation.py:41: DeprecationWarning: This module was deprecated in version 0.18 in favor of the model_selection module into which all the refactored classes and functions are moved. Also note that the interface of the new CV iterators are different from that of this module. This module will be removed in 0.20.\n",
      "  \"This module will be removed in 0.20.\", DeprecationWarning)\n",
      "C:\\Users\\medSr\\AppData\\Local\\Continuum\\anaconda3\\lib\\site-packages\\sklearn\\grid_search.py:42: DeprecationWarning: This module was deprecated in version 0.18 in favor of the model_selection module into which all the refactored classes and functions are moved. This module will be removed in 0.20.\n",
      "  DeprecationWarning)\n"
     ]
    }
   ],
   "source": [
    "# Import packages from Anaconda\n",
    "import pandas as pd\n",
    "import numpy as np\n",
    "import nltk\n",
    "import re\n",
    "import string\n",
    "from nltk.stem.snowball import SnowballStemmer\n",
    "from sklearn.grid_search import GridSearchCV   #Perforing grid search\n",
    "from sklearn.metrics import mean_squared_error"
   ]
  },
  {
   "cell_type": "markdown",
   "metadata": {
    "colab_type": "text",
    "id": "khS8woXnoHB4"
   },
   "source": [
    "### 2) Bring in the data\n",
    "We will start first by loading the `train`, `test`, `attributes` and `product description` files. The format of the files are in a CSV format which why we called the Pandas package. Note that Pandas purpose does not stop only at reading CSV files, it can do numerous useful jobs which we will see later in this notebook.\n",
    "The purpose of the following process is to predict the relevance of the test set given id and product_uid.\n",
    "\n",
    "Let's start."
   ]
  },
  {
   "cell_type": "code",
   "execution_count": 2,
   "metadata": {
    "colab": {
     "autoexec": {
      "startup": false,
      "wait_interval": 0
     }
    },
    "colab_type": "code",
    "id": "6brROccAoHB6"
   },
   "outputs": [],
   "source": [
    "train = pd.read_csv('train.csv',encoding='latin-1',index_col='id')\n",
    "test = pd.read_csv('test.csv',encoding='latin-1', index_col = 'id')\n",
    "attr = pd.read_csv('attributes.csv',encoding='latin-1')\n",
    "pt_desc = pd.read_csv('product_descriptions.csv', encoding='latin-1')"
   ]
  },
  {
   "cell_type": "markdown",
   "metadata": {},
   "source": [
    "Bellow is a snippet of the train and test sets which we will be cleaning, processing and applying machine learning models."
   ]
  },
  {
   "cell_type": "code",
   "execution_count": 3,
   "metadata": {},
   "outputs": [
    {
     "data": {
      "text/html": [
       "<div>\n",
       "<style scoped>\n",
       "    .dataframe tbody tr th:only-of-type {\n",
       "        vertical-align: middle;\n",
       "    }\n",
       "\n",
       "    .dataframe tbody tr th {\n",
       "        vertical-align: top;\n",
       "    }\n",
       "\n",
       "    .dataframe thead th {\n",
       "        text-align: right;\n",
       "    }\n",
       "</style>\n",
       "<table border=\"1\" class=\"dataframe\">\n",
       "  <thead>\n",
       "    <tr style=\"text-align: right;\">\n",
       "      <th></th>\n",
       "      <th>product_uid</th>\n",
       "      <th>product_title</th>\n",
       "      <th>search_term</th>\n",
       "      <th>relevance</th>\n",
       "    </tr>\n",
       "    <tr>\n",
       "      <th>id</th>\n",
       "      <th></th>\n",
       "      <th></th>\n",
       "      <th></th>\n",
       "      <th></th>\n",
       "    </tr>\n",
       "  </thead>\n",
       "  <tbody>\n",
       "    <tr>\n",
       "      <th>2</th>\n",
       "      <td>100001</td>\n",
       "      <td>Simpson Strong-Tie 12-Gauge Angle</td>\n",
       "      <td>angle bracket</td>\n",
       "      <td>3.00</td>\n",
       "    </tr>\n",
       "    <tr>\n",
       "      <th>3</th>\n",
       "      <td>100001</td>\n",
       "      <td>Simpson Strong-Tie 12-Gauge Angle</td>\n",
       "      <td>l bracket</td>\n",
       "      <td>2.50</td>\n",
       "    </tr>\n",
       "    <tr>\n",
       "      <th>9</th>\n",
       "      <td>100002</td>\n",
       "      <td>BEHR Premium Textured DeckOver 1-gal. #SC-141 ...</td>\n",
       "      <td>deck over</td>\n",
       "      <td>3.00</td>\n",
       "    </tr>\n",
       "    <tr>\n",
       "      <th>16</th>\n",
       "      <td>100005</td>\n",
       "      <td>Delta Vero 1-Handle Shower Only Faucet Trim Ki...</td>\n",
       "      <td>rain shower head</td>\n",
       "      <td>2.33</td>\n",
       "    </tr>\n",
       "    <tr>\n",
       "      <th>17</th>\n",
       "      <td>100005</td>\n",
       "      <td>Delta Vero 1-Handle Shower Only Faucet Trim Ki...</td>\n",
       "      <td>shower only faucet</td>\n",
       "      <td>2.67</td>\n",
       "    </tr>\n",
       "  </tbody>\n",
       "</table>\n",
       "</div>"
      ],
      "text/plain": [
       "    product_uid                                      product_title  \\\n",
       "id                                                                   \n",
       "2        100001                  Simpson Strong-Tie 12-Gauge Angle   \n",
       "3        100001                  Simpson Strong-Tie 12-Gauge Angle   \n",
       "9        100002  BEHR Premium Textured DeckOver 1-gal. #SC-141 ...   \n",
       "16       100005  Delta Vero 1-Handle Shower Only Faucet Trim Ki...   \n",
       "17       100005  Delta Vero 1-Handle Shower Only Faucet Trim Ki...   \n",
       "\n",
       "           search_term  relevance  \n",
       "id                                 \n",
       "2        angle bracket       3.00  \n",
       "3            l bracket       2.50  \n",
       "9            deck over       3.00  \n",
       "16    rain shower head       2.33  \n",
       "17  shower only faucet       2.67  "
      ]
     },
     "execution_count": 3,
     "metadata": {},
     "output_type": "execute_result"
    }
   ],
   "source": [
    "train.head()"
   ]
  },
  {
   "cell_type": "code",
   "execution_count": 4,
   "metadata": {},
   "outputs": [
    {
     "data": {
      "text/html": [
       "<div>\n",
       "<style scoped>\n",
       "    .dataframe tbody tr th:only-of-type {\n",
       "        vertical-align: middle;\n",
       "    }\n",
       "\n",
       "    .dataframe tbody tr th {\n",
       "        vertical-align: top;\n",
       "    }\n",
       "\n",
       "    .dataframe thead th {\n",
       "        text-align: right;\n",
       "    }\n",
       "</style>\n",
       "<table border=\"1\" class=\"dataframe\">\n",
       "  <thead>\n",
       "    <tr style=\"text-align: right;\">\n",
       "      <th></th>\n",
       "      <th>product_uid</th>\n",
       "      <th>product_title</th>\n",
       "      <th>search_term</th>\n",
       "    </tr>\n",
       "    <tr>\n",
       "      <th>id</th>\n",
       "      <th></th>\n",
       "      <th></th>\n",
       "      <th></th>\n",
       "    </tr>\n",
       "  </thead>\n",
       "  <tbody>\n",
       "    <tr>\n",
       "      <th>1</th>\n",
       "      <td>100001</td>\n",
       "      <td>Simpson Strong-Tie 12-Gauge Angle</td>\n",
       "      <td>90 degree bracket</td>\n",
       "    </tr>\n",
       "    <tr>\n",
       "      <th>4</th>\n",
       "      <td>100001</td>\n",
       "      <td>Simpson Strong-Tie 12-Gauge Angle</td>\n",
       "      <td>metal l brackets</td>\n",
       "    </tr>\n",
       "    <tr>\n",
       "      <th>5</th>\n",
       "      <td>100001</td>\n",
       "      <td>Simpson Strong-Tie 12-Gauge Angle</td>\n",
       "      <td>simpson sku able</td>\n",
       "    </tr>\n",
       "    <tr>\n",
       "      <th>6</th>\n",
       "      <td>100001</td>\n",
       "      <td>Simpson Strong-Tie 12-Gauge Angle</td>\n",
       "      <td>simpson strong  ties</td>\n",
       "    </tr>\n",
       "    <tr>\n",
       "      <th>7</th>\n",
       "      <td>100001</td>\n",
       "      <td>Simpson Strong-Tie 12-Gauge Angle</td>\n",
       "      <td>simpson strong tie hcc668</td>\n",
       "    </tr>\n",
       "  </tbody>\n",
       "</table>\n",
       "</div>"
      ],
      "text/plain": [
       "    product_uid                      product_title                search_term\n",
       "id                                                                           \n",
       "1        100001  Simpson Strong-Tie 12-Gauge Angle          90 degree bracket\n",
       "4        100001  Simpson Strong-Tie 12-Gauge Angle           metal l brackets\n",
       "5        100001  Simpson Strong-Tie 12-Gauge Angle           simpson sku able\n",
       "6        100001  Simpson Strong-Tie 12-Gauge Angle       simpson strong  ties\n",
       "7        100001  Simpson Strong-Tie 12-Gauge Angle  simpson strong tie hcc668"
      ]
     },
     "execution_count": 4,
     "metadata": {},
     "output_type": "execute_result"
    }
   ],
   "source": [
    "test.head()"
   ]
  },
  {
   "cell_type": "markdown",
   "metadata": {},
   "source": [
    "Notice that the relevance column is absent from the test table. \n",
    "\n",
    "According to Wiki: \n",
    "> \" _In machine learning, the study and construction of algorithms that can learn from and make predictions on data is a common task. Such algorithms work by making data-driven predictions or decisions through building a mathematical model from input data._\"\n",
    "\n",
    "In short, from the training set, we will train a model which will predict the missing relevance data from the test set. They are called **labels**."
   ]
  },
  {
   "cell_type": "markdown",
   "metadata": {},
   "source": [
    "## 1st Iteration"
   ]
  },
  {
   "cell_type": "markdown",
   "metadata": {},
   "source": [
    "**What we need to do at first ?**"
   ]
  },
  {
   "cell_type": "markdown",
   "metadata": {},
   "source": [
    "Before we start, we have to ask ourselves. What data are we be dealing with ?  is the available data meaningful?\n",
    "At first impression, yes, the data seem to be in great shape; phrases that describe a specific product and its title, as well as Home Depot customers search query. However, training a machine learning model with words and phrases will not output the desired result. A human can easily read words and phrases and come up with a result,machine models, and computers in general will have a lot of difficulties doing so. Therefore, we need to change the data into a set that our models will understand. Basically, change the data into numbers."
   ]
  },
  {
   "cell_type": "markdown",
   "metadata": {},
   "source": [
    "As I said, Pandas will be helpful. Bellow we will use Pandas to concatenate the train and test data sets together and merge the result of the concatenation with the product description set. The reason we concatenated the train and test dataset together is that we want to save time and performance processing and cleaning the data without repeating the same process over on two separate blocks of code. "
   ]
  },
  {
   "cell_type": "code",
   "execution_count": 5,
   "metadata": {
    "colab": {
     "autoexec": {
      "startup": false,
      "wait_interval": 0
     }
    },
    "colab_type": "code",
    "id": "ny4xdIwGoHB_"
   },
   "outputs": [],
   "source": [
    "#concatination\n",
    "concat = pd.concat((train,test),axis=0)\n",
    "#merging\n",
    "df_merge = pd.merge(concat,pt_desc, on='product_uid', how='left')"
   ]
  },
  {
   "cell_type": "markdown",
   "metadata": {},
   "source": [
    "Length of our merged data"
   ]
  },
  {
   "cell_type": "code",
   "execution_count": 6,
   "metadata": {},
   "outputs": [
    {
     "data": {
      "text/plain": [
       "240760"
      ]
     },
     "execution_count": 6,
     "metadata": {},
     "output_type": "execute_result"
    }
   ],
   "source": [
    "len(df_merge)"
   ]
  },
  {
   "cell_type": "markdown",
   "metadata": {},
   "source": [
    "A look at the 5 first rows."
   ]
  },
  {
   "cell_type": "code",
   "execution_count": 7,
   "metadata": {
    "colab": {
     "autoexec": {
      "startup": false,
      "wait_interval": 0
     },
     "base_uri": "https://localhost:8080/",
     "height": 254
    },
    "colab_type": "code",
    "executionInfo": {
     "elapsed": 405,
     "status": "ok",
     "timestamp": 1526786553114,
     "user": {
      "displayName": "SRIHA Mohamed",
      "photoUrl": "//lh5.googleusercontent.com/-XM6rLh3fxpo/AAAAAAAAAAI/AAAAAAAAAAA/W_br5yKx7q8/s50-c-k-no/photo.jpg",
      "userId": "101590173883877601113"
     },
     "user_tz": 240
    },
    "id": "Gjmg49OgoHCE",
    "outputId": "1fd3c06e-bd78-4fd7-b432-2a08ae8dd185",
    "scrolled": false
   },
   "outputs": [
    {
     "data": {
      "text/html": [
       "<div>\n",
       "<style scoped>\n",
       "    .dataframe tbody tr th:only-of-type {\n",
       "        vertical-align: middle;\n",
       "    }\n",
       "\n",
       "    .dataframe tbody tr th {\n",
       "        vertical-align: top;\n",
       "    }\n",
       "\n",
       "    .dataframe thead th {\n",
       "        text-align: right;\n",
       "    }\n",
       "</style>\n",
       "<table border=\"1\" class=\"dataframe\">\n",
       "  <thead>\n",
       "    <tr style=\"text-align: right;\">\n",
       "      <th></th>\n",
       "      <th>product_title</th>\n",
       "      <th>product_uid</th>\n",
       "      <th>relevance</th>\n",
       "      <th>search_term</th>\n",
       "      <th>product_description</th>\n",
       "    </tr>\n",
       "  </thead>\n",
       "  <tbody>\n",
       "    <tr>\n",
       "      <th>0</th>\n",
       "      <td>Simpson Strong-Tie 12-Gauge Angle</td>\n",
       "      <td>100001</td>\n",
       "      <td>3.00</td>\n",
       "      <td>angle bracket</td>\n",
       "      <td>Not only do angles make joints stronger, they ...</td>\n",
       "    </tr>\n",
       "    <tr>\n",
       "      <th>1</th>\n",
       "      <td>Simpson Strong-Tie 12-Gauge Angle</td>\n",
       "      <td>100001</td>\n",
       "      <td>2.50</td>\n",
       "      <td>l bracket</td>\n",
       "      <td>Not only do angles make joints stronger, they ...</td>\n",
       "    </tr>\n",
       "    <tr>\n",
       "      <th>2</th>\n",
       "      <td>BEHR Premium Textured DeckOver 1-gal. #SC-141 ...</td>\n",
       "      <td>100002</td>\n",
       "      <td>3.00</td>\n",
       "      <td>deck over</td>\n",
       "      <td>BEHR Premium Textured DECKOVER is an innovativ...</td>\n",
       "    </tr>\n",
       "    <tr>\n",
       "      <th>3</th>\n",
       "      <td>Delta Vero 1-Handle Shower Only Faucet Trim Ki...</td>\n",
       "      <td>100005</td>\n",
       "      <td>2.33</td>\n",
       "      <td>rain shower head</td>\n",
       "      <td>Update your bathroom with the Delta Vero Singl...</td>\n",
       "    </tr>\n",
       "    <tr>\n",
       "      <th>4</th>\n",
       "      <td>Delta Vero 1-Handle Shower Only Faucet Trim Ki...</td>\n",
       "      <td>100005</td>\n",
       "      <td>2.67</td>\n",
       "      <td>shower only faucet</td>\n",
       "      <td>Update your bathroom with the Delta Vero Singl...</td>\n",
       "    </tr>\n",
       "  </tbody>\n",
       "</table>\n",
       "</div>"
      ],
      "text/plain": [
       "                                       product_title  product_uid  relevance  \\\n",
       "0                  Simpson Strong-Tie 12-Gauge Angle       100001       3.00   \n",
       "1                  Simpson Strong-Tie 12-Gauge Angle       100001       2.50   \n",
       "2  BEHR Premium Textured DeckOver 1-gal. #SC-141 ...       100002       3.00   \n",
       "3  Delta Vero 1-Handle Shower Only Faucet Trim Ki...       100005       2.33   \n",
       "4  Delta Vero 1-Handle Shower Only Faucet Trim Ki...       100005       2.67   \n",
       "\n",
       "          search_term                                product_description  \n",
       "0       angle bracket  Not only do angles make joints stronger, they ...  \n",
       "1           l bracket  Not only do angles make joints stronger, they ...  \n",
       "2           deck over  BEHR Premium Textured DECKOVER is an innovativ...  \n",
       "3    rain shower head  Update your bathroom with the Delta Vero Singl...  \n",
       "4  shower only faucet  Update your bathroom with the Delta Vero Singl...  "
      ]
     },
     "execution_count": 7,
     "metadata": {},
     "output_type": "execute_result"
    }
   ],
   "source": [
    "df_merge.head()"
   ]
  },
  {
   "cell_type": "markdown",
   "metadata": {},
   "source": [
    "### Basic Features Creation"
   ]
  },
  {
   "cell_type": "markdown",
   "metadata": {},
   "source": [
    "Now, we will create features which will be representing our data but in a digital format, so our models can train for an accurate prediction.\n",
    "\n",
    "Note that our main role is to structure a pipeline so our models can predict the relevance of a query to a specific product. In the `length()` function, we will just measure the length of a `search_term`, `product_title` and `product_description`. A simple and basic approach."
   ]
  },
  {
   "cell_type": "code",
   "execution_count": 8,
   "metadata": {
    "colab": {
     "autoexec": {
      "startup": false,
      "wait_interval": 0
     }
    },
    "colab_type": "code",
    "id": "c7BEeufboHCl"
   },
   "outputs": [],
   "source": [
    "def length(df):\n",
    "    data = df.copy().astype(str)\n",
    "    #search\n",
    "    data['length_search_terms'] = data['search_term'].map(lambda x : len(x.split()))\n",
    "    #title\n",
    "    data['length_product_title'] = data['product_title'].map(lambda x :len(x.split()))\n",
    "    #pt description\n",
    "    data['length_product_description'] = data['product_description'].map(lambda x: len(x.split()))\n",
    "\n",
    "    return data"
   ]
  },
  {
   "cell_type": "code",
   "execution_count": 9,
   "metadata": {},
   "outputs": [
    {
     "data": {
      "text/html": [
       "<div>\n",
       "<style scoped>\n",
       "    .dataframe tbody tr th:only-of-type {\n",
       "        vertical-align: middle;\n",
       "    }\n",
       "\n",
       "    .dataframe tbody tr th {\n",
       "        vertical-align: top;\n",
       "    }\n",
       "\n",
       "    .dataframe thead th {\n",
       "        text-align: right;\n",
       "    }\n",
       "</style>\n",
       "<table border=\"1\" class=\"dataframe\">\n",
       "  <thead>\n",
       "    <tr style=\"text-align: right;\">\n",
       "      <th></th>\n",
       "      <th>product_title</th>\n",
       "      <th>product_uid</th>\n",
       "      <th>relevance</th>\n",
       "      <th>search_term</th>\n",
       "      <th>product_description</th>\n",
       "      <th>length_search_terms</th>\n",
       "      <th>length_product_title</th>\n",
       "      <th>length_product_description</th>\n",
       "    </tr>\n",
       "  </thead>\n",
       "  <tbody>\n",
       "    <tr>\n",
       "      <th>0</th>\n",
       "      <td>Simpson Strong-Tie 12-Gauge Angle</td>\n",
       "      <td>100001</td>\n",
       "      <td>3.0</td>\n",
       "      <td>angle bracket</td>\n",
       "      <td>Not only do angles make joints stronger, they ...</td>\n",
       "      <td>2</td>\n",
       "      <td>4</td>\n",
       "      <td>129</td>\n",
       "    </tr>\n",
       "    <tr>\n",
       "      <th>1</th>\n",
       "      <td>Simpson Strong-Tie 12-Gauge Angle</td>\n",
       "      <td>100001</td>\n",
       "      <td>2.5</td>\n",
       "      <td>l bracket</td>\n",
       "      <td>Not only do angles make joints stronger, they ...</td>\n",
       "      <td>2</td>\n",
       "      <td>4</td>\n",
       "      <td>129</td>\n",
       "    </tr>\n",
       "    <tr>\n",
       "      <th>2</th>\n",
       "      <td>BEHR Premium Textured DeckOver 1-gal. #SC-141 ...</td>\n",
       "      <td>100002</td>\n",
       "      <td>3.0</td>\n",
       "      <td>deck over</td>\n",
       "      <td>BEHR Premium Textured DECKOVER is an innovativ...</td>\n",
       "      <td>2</td>\n",
       "      <td>11</td>\n",
       "      <td>167</td>\n",
       "    </tr>\n",
       "    <tr>\n",
       "      <th>3</th>\n",
       "      <td>Delta Vero 1-Handle Shower Only Faucet Trim Ki...</td>\n",
       "      <td>100005</td>\n",
       "      <td>2.33</td>\n",
       "      <td>rain shower head</td>\n",
       "      <td>Update your bathroom with the Delta Vero Singl...</td>\n",
       "      <td>3</td>\n",
       "      <td>13</td>\n",
       "      <td>104</td>\n",
       "    </tr>\n",
       "    <tr>\n",
       "      <th>4</th>\n",
       "      <td>Delta Vero 1-Handle Shower Only Faucet Trim Ki...</td>\n",
       "      <td>100005</td>\n",
       "      <td>2.67</td>\n",
       "      <td>shower only faucet</td>\n",
       "      <td>Update your bathroom with the Delta Vero Singl...</td>\n",
       "      <td>3</td>\n",
       "      <td>13</td>\n",
       "      <td>104</td>\n",
       "    </tr>\n",
       "  </tbody>\n",
       "</table>\n",
       "</div>"
      ],
      "text/plain": [
       "                                       product_title product_uid relevance  \\\n",
       "0                  Simpson Strong-Tie 12-Gauge Angle      100001       3.0   \n",
       "1                  Simpson Strong-Tie 12-Gauge Angle      100001       2.5   \n",
       "2  BEHR Premium Textured DeckOver 1-gal. #SC-141 ...      100002       3.0   \n",
       "3  Delta Vero 1-Handle Shower Only Faucet Trim Ki...      100005      2.33   \n",
       "4  Delta Vero 1-Handle Shower Only Faucet Trim Ki...      100005      2.67   \n",
       "\n",
       "          search_term                                product_description  \\\n",
       "0       angle bracket  Not only do angles make joints stronger, they ...   \n",
       "1           l bracket  Not only do angles make joints stronger, they ...   \n",
       "2           deck over  BEHR Premium Textured DECKOVER is an innovativ...   \n",
       "3    rain shower head  Update your bathroom with the Delta Vero Singl...   \n",
       "4  shower only faucet  Update your bathroom with the Delta Vero Singl...   \n",
       "\n",
       "   length_search_terms  length_product_title  length_product_description  \n",
       "0                    2                     4                         129  \n",
       "1                    2                     4                         129  \n",
       "2                    2                    11                         167  \n",
       "3                    3                    13                         104  \n",
       "4                    3                    13                         104  "
      ]
     },
     "execution_count": 9,
     "metadata": {},
     "output_type": "execute_result"
    }
   ],
   "source": [
    "length_attributes = length(df_merge)\n",
    "length_attributes.head()"
   ]
  },
  {
   "cell_type": "markdown",
   "metadata": {},
   "source": [
    "### Estimator"
   ]
  },
  {
   "cell_type": "markdown",
   "metadata": {},
   "source": [
    "After we created the `length_search_terms`,`length_product_title` and `length_product_description` features, the second step is to import the Sckit-learn LinearRegression library to comprehend how the algorithm will perform on our basic approach."
   ]
  },
  {
   "cell_type": "code",
   "execution_count": 10,
   "metadata": {},
   "outputs": [],
   "source": [
    "from sklearn.linear_model import LinearRegression\n",
    "lr = LinearRegression()"
   ]
  },
  {
   "cell_type": "markdown",
   "metadata": {},
   "source": [
    "Now we will fit the model on the train and test set. **Note that this test data is not the same data as the test CSV file which we uploaded before.** This test data will be a part of the training set. Let say 33% of the training set. 33% is just a random number, there is no specific rule in dividing the data. The reason for doing that is we want to hide a small part of our training set then apply it to the fitting result.  Unfortunately, we do not have the hidden labels (Relevance from the test CSV file), so we will use the known labels from the training to see if we are doing great or bad."
   ]
  },
  {
   "cell_type": "code",
   "execution_count": 11,
   "metadata": {},
   "outputs": [],
   "source": [
    "X_tr = length_attributes[length_attributes['relevance']!= 'nan']\n",
    "# Only attribues with digital type.\n",
    "X = X_tr.drop(['product_title','product_uid','relevance','search_term','product_description'],axis=1)\n",
    "#Target, what we want to predict in the future.\n",
    "y= X_tr['relevance']"
   ]
  },
  {
   "cell_type": "code",
   "execution_count": 12,
   "metadata": {},
   "outputs": [],
   "source": [
    "from sklearn.model_selection import train_test_split\n",
    "X_train_lr, X_test_lr, y_train_lr, y_test_lr = train_test_split(X, y, test_size=0.33, random_state=42)"
   ]
  },
  {
   "cell_type": "markdown",
   "metadata": {},
   "source": [
    "Fit our data into the model"
   ]
  },
  {
   "cell_type": "code",
   "execution_count": 13,
   "metadata": {},
   "outputs": [
    {
     "data": {
      "text/plain": [
       "LinearRegression(copy_X=True, fit_intercept=True, n_jobs=1, normalize=False)"
      ]
     },
     "execution_count": 13,
     "metadata": {},
     "output_type": "execute_result"
    }
   ],
   "source": [
    "lr.fit(X_train_lr,y_train_lr)"
   ]
  },
  {
   "cell_type": "markdown",
   "metadata": {},
   "source": [
    "Second is to evaluate our model"
   ]
  },
  {
   "cell_type": "code",
   "execution_count": 14,
   "metadata": {},
   "outputs": [
    {
     "name": "stdout",
     "output_type": "stream",
     "text": [
      "RMSE : 0.5322\n",
      "Coefficient of determination R^2 of the prediction(Score): 0.009215\n"
     ]
    }
   ],
   "source": [
    "dtrain_predictions = lr.predict(X_test_lr)\n",
    "#Perform RMSE:\n",
    "rmse = np.sqrt(mean_squared_error(y_test_lr, dtrain_predictions))\n",
    "print (\"RMSE : %.4g\" % rmse)\n",
    "print(\"Coefficient of determination R^2 of the prediction(Score): %.4g\" % lr.score(X_train_lr,y_train_lr))"
   ]
  },
  {
   "cell_type": "markdown",
   "metadata": {},
   "source": [
    "As you can see, our RMSE is quite high and the coefficient of determination is low.  We will discuss later in the Notebook the meaning of the Coefficient of determination R^2."
   ]
  },
  {
   "cell_type": "markdown",
   "metadata": {},
   "source": [
    "## Kaggle 1st submission"
   ]
  },
  {
   "cell_type": "markdown",
   "metadata": {},
   "source": [
    "<img src='Capture3.jpg'>"
   ]
  },
  {
   "cell_type": "markdown",
   "metadata": {},
   "source": [
    "We are done with the first iteration. In the next iteration, we add some work in our pipline to aim a better RMSE. "
   ]
  },
  {
   "cell_type": "markdown",
   "metadata": {},
   "source": [
    "## 2nd Iteration"
   ]
  },
  {
   "cell_type": "markdown",
   "metadata": {},
   "source": [
    "The second iteration will focus on cleanning and processing the data, and creating more features."
   ]
  },
  {
   "cell_type": "markdown",
   "metadata": {},
   "source": [
    "If you noticed, we have not used the attribute data set in the 1st Iteration."
   ]
  },
  {
   "cell_type": "code",
   "execution_count": 15,
   "metadata": {},
   "outputs": [
    {
     "data": {
      "text/html": [
       "<div>\n",
       "<style scoped>\n",
       "    .dataframe tbody tr th:only-of-type {\n",
       "        vertical-align: middle;\n",
       "    }\n",
       "\n",
       "    .dataframe tbody tr th {\n",
       "        vertical-align: top;\n",
       "    }\n",
       "\n",
       "    .dataframe thead th {\n",
       "        text-align: right;\n",
       "    }\n",
       "</style>\n",
       "<table border=\"1\" class=\"dataframe\">\n",
       "  <thead>\n",
       "    <tr style=\"text-align: right;\">\n",
       "      <th></th>\n",
       "      <th>product_uid</th>\n",
       "      <th>name</th>\n",
       "      <th>value</th>\n",
       "    </tr>\n",
       "  </thead>\n",
       "  <tbody>\n",
       "    <tr>\n",
       "      <th>0</th>\n",
       "      <td>100001.0</td>\n",
       "      <td>Bullet01</td>\n",
       "      <td>Versatile connector for various 90Â° connectio...</td>\n",
       "    </tr>\n",
       "    <tr>\n",
       "      <th>1</th>\n",
       "      <td>100001.0</td>\n",
       "      <td>Bullet02</td>\n",
       "      <td>Stronger than angled nailing or screw fastenin...</td>\n",
       "    </tr>\n",
       "    <tr>\n",
       "      <th>2</th>\n",
       "      <td>100001.0</td>\n",
       "      <td>Bullet03</td>\n",
       "      <td>Help ensure joints are consistently straight a...</td>\n",
       "    </tr>\n",
       "    <tr>\n",
       "      <th>3</th>\n",
       "      <td>100001.0</td>\n",
       "      <td>Bullet04</td>\n",
       "      <td>Dimensions: 3 in. x 3 in. x 1-1/2 in.</td>\n",
       "    </tr>\n",
       "    <tr>\n",
       "      <th>4</th>\n",
       "      <td>100001.0</td>\n",
       "      <td>Bullet05</td>\n",
       "      <td>Made from 12-Gauge steel</td>\n",
       "    </tr>\n",
       "  </tbody>\n",
       "</table>\n",
       "</div>"
      ],
      "text/plain": [
       "   product_uid      name                                              value\n",
       "0     100001.0  Bullet01  Versatile connector for various 90Â° connectio...\n",
       "1     100001.0  Bullet02  Stronger than angled nailing or screw fastenin...\n",
       "2     100001.0  Bullet03  Help ensure joints are consistently straight a...\n",
       "3     100001.0  Bullet04              Dimensions: 3 in. x 3 in. x 1-1/2 in.\n",
       "4     100001.0  Bullet05                           Made from 12-Gauge steel"
      ]
     },
     "execution_count": 15,
     "metadata": {},
     "output_type": "execute_result"
    }
   ],
   "source": [
    "attr.head()"
   ]
  },
  {
   "cell_type": "markdown",
   "metadata": {},
   "source": [
    "The attribute table describes the product in a more precise way. The `value` column stores the brand, color, size, etc.. of the product, and to increase the relevance of a customer query within a specific product, it will better if we include as much information as possible on the wanted product."
   ]
  },
  {
   "cell_type": "markdown",
   "metadata": {},
   "source": [
    "First, we will extract the `brand`,`color` and `material` form each product present in the merged table.\n",
    "`material` attribute is the material which the product was made from. `color` is the color of the product and so on. \n"
   ]
  },
  {
   "cell_type": "code",
   "execution_count": 16,
   "metadata": {},
   "outputs": [],
   "source": [
    "#brand\n",
    "brand = attr[attr['name'] == 'MFG Brand Name'][['product_uid','value']]\n",
    "brand = brand.rename(columns={'value':'brand'})\n",
    "brand['product_uid'] = brand['product_uid'].astype('int64') \n",
    "#color\n",
    "color = attr[attr['name'] == 'Color'][['product_uid','value']]\n",
    "color = color.rename(columns={'value':'color'})\n",
    "color = color.drop_duplicates('product_uid')\n",
    "color['product_uid'] = color['product_uid'].astype('int64') \n",
    "#material\n",
    "material = attr[attr['name'] == 'Material'][['product_uid','value']]\n",
    "material = material.rename(columns={'value':'material'})\n",
    "material = material.drop_duplicates('product_uid')\n",
    "material['product_uid'] = material['product_uid'].astype('int64') "
   ]
  },
  {
   "cell_type": "markdown",
   "metadata": {},
   "source": [
    "Second, we will merge the new tables or dataframes into the `df_merge` table from the 1st iteration."
   ]
  },
  {
   "cell_type": "code",
   "execution_count": 17,
   "metadata": {},
   "outputs": [],
   "source": [
    "df_merge_2 = pd.merge(df_merge,brand, on='product_uid',how='left')\n",
    "\n",
    "df_merge_2 = pd.merge(df_merge_2,color, on='product_uid', how='left')\n",
    "\n",
    "df_merge_2 = pd.merge(df_merge_2,material, on='product_uid', how='left')"
   ]
  },
  {
   "cell_type": "code",
   "execution_count": 18,
   "metadata": {},
   "outputs": [
    {
     "data": {
      "text/html": [
       "<div>\n",
       "<style scoped>\n",
       "    .dataframe tbody tr th:only-of-type {\n",
       "        vertical-align: middle;\n",
       "    }\n",
       "\n",
       "    .dataframe tbody tr th {\n",
       "        vertical-align: top;\n",
       "    }\n",
       "\n",
       "    .dataframe thead th {\n",
       "        text-align: right;\n",
       "    }\n",
       "</style>\n",
       "<table border=\"1\" class=\"dataframe\">\n",
       "  <thead>\n",
       "    <tr style=\"text-align: right;\">\n",
       "      <th></th>\n",
       "      <th>product_title</th>\n",
       "      <th>product_uid</th>\n",
       "      <th>relevance</th>\n",
       "      <th>search_term</th>\n",
       "      <th>product_description</th>\n",
       "      <th>brand</th>\n",
       "      <th>color</th>\n",
       "      <th>material</th>\n",
       "    </tr>\n",
       "  </thead>\n",
       "  <tbody>\n",
       "    <tr>\n",
       "      <th>0</th>\n",
       "      <td>Simpson Strong-Tie 12-Gauge Angle</td>\n",
       "      <td>100001</td>\n",
       "      <td>3.00</td>\n",
       "      <td>angle bracket</td>\n",
       "      <td>Not only do angles make joints stronger, they ...</td>\n",
       "      <td>Simpson Strong-Tie</td>\n",
       "      <td>NaN</td>\n",
       "      <td>Galvanized Steel</td>\n",
       "    </tr>\n",
       "    <tr>\n",
       "      <th>1</th>\n",
       "      <td>Simpson Strong-Tie 12-Gauge Angle</td>\n",
       "      <td>100001</td>\n",
       "      <td>2.50</td>\n",
       "      <td>l bracket</td>\n",
       "      <td>Not only do angles make joints stronger, they ...</td>\n",
       "      <td>Simpson Strong-Tie</td>\n",
       "      <td>NaN</td>\n",
       "      <td>Galvanized Steel</td>\n",
       "    </tr>\n",
       "    <tr>\n",
       "      <th>2</th>\n",
       "      <td>BEHR Premium Textured DeckOver 1-gal. #SC-141 ...</td>\n",
       "      <td>100002</td>\n",
       "      <td>3.00</td>\n",
       "      <td>deck over</td>\n",
       "      <td>BEHR Premium Textured DECKOVER is an innovativ...</td>\n",
       "      <td>BEHR Premium Textured DeckOver</td>\n",
       "      <td>NaN</td>\n",
       "      <td>NaN</td>\n",
       "    </tr>\n",
       "    <tr>\n",
       "      <th>3</th>\n",
       "      <td>Delta Vero 1-Handle Shower Only Faucet Trim Ki...</td>\n",
       "      <td>100005</td>\n",
       "      <td>2.33</td>\n",
       "      <td>rain shower head</td>\n",
       "      <td>Update your bathroom with the Delta Vero Singl...</td>\n",
       "      <td>Delta</td>\n",
       "      <td>NaN</td>\n",
       "      <td>NaN</td>\n",
       "    </tr>\n",
       "    <tr>\n",
       "      <th>4</th>\n",
       "      <td>Delta Vero 1-Handle Shower Only Faucet Trim Ki...</td>\n",
       "      <td>100005</td>\n",
       "      <td>2.67</td>\n",
       "      <td>shower only faucet</td>\n",
       "      <td>Update your bathroom with the Delta Vero Singl...</td>\n",
       "      <td>Delta</td>\n",
       "      <td>NaN</td>\n",
       "      <td>NaN</td>\n",
       "    </tr>\n",
       "  </tbody>\n",
       "</table>\n",
       "</div>"
      ],
      "text/plain": [
       "                                       product_title  product_uid  relevance  \\\n",
       "0                  Simpson Strong-Tie 12-Gauge Angle       100001       3.00   \n",
       "1                  Simpson Strong-Tie 12-Gauge Angle       100001       2.50   \n",
       "2  BEHR Premium Textured DeckOver 1-gal. #SC-141 ...       100002       3.00   \n",
       "3  Delta Vero 1-Handle Shower Only Faucet Trim Ki...       100005       2.33   \n",
       "4  Delta Vero 1-Handle Shower Only Faucet Trim Ki...       100005       2.67   \n",
       "\n",
       "          search_term                                product_description  \\\n",
       "0       angle bracket  Not only do angles make joints stronger, they ...   \n",
       "1           l bracket  Not only do angles make joints stronger, they ...   \n",
       "2           deck over  BEHR Premium Textured DECKOVER is an innovativ...   \n",
       "3    rain shower head  Update your bathroom with the Delta Vero Singl...   \n",
       "4  shower only faucet  Update your bathroom with the Delta Vero Singl...   \n",
       "\n",
       "                            brand color          material  \n",
       "0              Simpson Strong-Tie   NaN  Galvanized Steel  \n",
       "1              Simpson Strong-Tie   NaN  Galvanized Steel  \n",
       "2  BEHR Premium Textured DeckOver   NaN               NaN  \n",
       "3                           Delta   NaN               NaN  \n",
       "4                           Delta   NaN               NaN  "
      ]
     },
     "execution_count": 18,
     "metadata": {},
     "output_type": "execute_result"
    }
   ],
   "source": [
    "df_merge_2.head()"
   ]
  },
  {
   "cell_type": "markdown",
   "metadata": {},
   "source": [
    "Notice that there are several rows which have a `NaN` value in our new merged table, to keep the accuracy of the data, we will create a function that replaces the `NaN` values with an empty string if the column data type is String or Object, and 0 if the data type is float or integer. \n",
    "\n",
    "`NaN`s are displayed when a product do not have enough information. "
   ]
  },
  {
   "cell_type": "code",
   "execution_count": 19,
   "metadata": {
    "colab": {
     "autoexec": {
      "startup": false,
      "wait_interval": 0
     }
    },
    "colab_type": "code",
    "id": "ACM3m8wJzTaa"
   },
   "outputs": [],
   "source": [
    "def fill_na(df):\n",
    "    \n",
    "    for col in df.columns:\n",
    "        dt = df[col].dtype \n",
    "        #check if it is a number\n",
    "        if dt == 'int64' or dt == 'float64':\n",
    "            df[col] = df[col].fillna(0)\n",
    "        else:\n",
    "            df[col] = df[col].fillna(\" \")\n",
    "        \n",
    "    return df"
   ]
  },
  {
   "cell_type": "markdown",
   "metadata": {},
   "source": [
    "Before we start cleaning and processing the data. We will add a new feature to the table, this feature is _all synonyms_ of each word in the query. The reason is that if a user enters a query which is not in the product_description but the query has a word which is a synonym of it, the function will not match the query with the desired product because there is no exact or direct match. To increase the matching likelihood, we decided to include words that are synonyms to the query terms."
   ]
  },
  {
   "cell_type": "code",
   "execution_count": 20,
   "metadata": {
    "colab": {
     "autoexec": {
      "startup": false,
      "wait_interval": 0
     }
    },
    "colab_type": "code",
    "id": "gFYbEktV0Xxf"
   },
   "outputs": [],
   "source": [
    "from nltk.corpus import wordnet\n",
    "def syns(x):\n",
    "    query_syns = []\n",
    "    for word in str(x).split(\" \"):\n",
    "        for syn in wordnet.synsets(word):\n",
    "            for lem in syn.lemmas():\n",
    "                query_syns.append(lem.name())\n",
    "    return ' '.join(query_syns)"
   ]
  },
  {
   "cell_type": "code",
   "execution_count": 21,
   "metadata": {},
   "outputs": [],
   "source": [
    "df_merge_2['search_term_sys'] = df_merge_2['search_term'].apply(lambda x :syns(x) )"
   ]
  },
  {
   "cell_type": "code",
   "execution_count": 22,
   "metadata": {},
   "outputs": [
    {
     "data": {
      "text/html": [
       "<div>\n",
       "<style scoped>\n",
       "    .dataframe tbody tr th:only-of-type {\n",
       "        vertical-align: middle;\n",
       "    }\n",
       "\n",
       "    .dataframe tbody tr th {\n",
       "        vertical-align: top;\n",
       "    }\n",
       "\n",
       "    .dataframe thead th {\n",
       "        text-align: right;\n",
       "    }\n",
       "</style>\n",
       "<table border=\"1\" class=\"dataframe\">\n",
       "  <thead>\n",
       "    <tr style=\"text-align: right;\">\n",
       "      <th></th>\n",
       "      <th>product_title</th>\n",
       "      <th>product_uid</th>\n",
       "      <th>relevance</th>\n",
       "      <th>search_term</th>\n",
       "      <th>product_description</th>\n",
       "      <th>brand</th>\n",
       "      <th>color</th>\n",
       "      <th>material</th>\n",
       "      <th>search_term_sys</th>\n",
       "    </tr>\n",
       "  </thead>\n",
       "  <tbody>\n",
       "    <tr>\n",
       "      <th>0</th>\n",
       "      <td>Simpson Strong-Tie 12-Gauge Angle</td>\n",
       "      <td>100001</td>\n",
       "      <td>3.00</td>\n",
       "      <td>angle bracket</td>\n",
       "      <td>Not only do angles make joints stronger, they ...</td>\n",
       "      <td>Simpson Strong-Tie</td>\n",
       "      <td>NaN</td>\n",
       "      <td>Galvanized Steel</td>\n",
       "      <td>angle slant angle Angle angle lean tilt tip sl...</td>\n",
       "    </tr>\n",
       "    <tr>\n",
       "      <th>1</th>\n",
       "      <td>Simpson Strong-Tie 12-Gauge Angle</td>\n",
       "      <td>100001</td>\n",
       "      <td>2.50</td>\n",
       "      <td>l bracket</td>\n",
       "      <td>Not only do angles make joints stronger, they ...</td>\n",
       "      <td>Simpson Strong-Tie</td>\n",
       "      <td>NaN</td>\n",
       "      <td>Galvanized Steel</td>\n",
       "      <td>liter litre l cubic_decimeter cubic_decimetre ...</td>\n",
       "    </tr>\n",
       "    <tr>\n",
       "      <th>2</th>\n",
       "      <td>BEHR Premium Textured DeckOver 1-gal. #SC-141 ...</td>\n",
       "      <td>100002</td>\n",
       "      <td>3.00</td>\n",
       "      <td>deck over</td>\n",
       "      <td>BEHR Premium Textured DECKOVER is an innovativ...</td>\n",
       "      <td>BEHR Premium Textured DeckOver</td>\n",
       "      <td>NaN</td>\n",
       "      <td>NaN</td>\n",
       "      <td>deck deck pack_of_cards deck_of_cards deck dec...</td>\n",
       "    </tr>\n",
       "    <tr>\n",
       "      <th>3</th>\n",
       "      <td>Delta Vero 1-Handle Shower Only Faucet Trim Ki...</td>\n",
       "      <td>100005</td>\n",
       "      <td>2.33</td>\n",
       "      <td>rain shower head</td>\n",
       "      <td>Update your bathroom with the Delta Vero Singl...</td>\n",
       "      <td>Delta</td>\n",
       "      <td>NaN</td>\n",
       "      <td>NaN</td>\n",
       "      <td>rain rainfall rain rainwater rain pelting rain...</td>\n",
       "    </tr>\n",
       "    <tr>\n",
       "      <th>4</th>\n",
       "      <td>Delta Vero 1-Handle Shower Only Faucet Trim Ki...</td>\n",
       "      <td>100005</td>\n",
       "      <td>2.67</td>\n",
       "      <td>shower only faucet</td>\n",
       "      <td>Update your bathroom with the Delta Vero Singl...</td>\n",
       "      <td>Delta</td>\n",
       "      <td>NaN</td>\n",
       "      <td>NaN</td>\n",
       "      <td>shower shower shower_bath shower rain_shower s...</td>\n",
       "    </tr>\n",
       "  </tbody>\n",
       "</table>\n",
       "</div>"
      ],
      "text/plain": [
       "                                       product_title  product_uid  relevance  \\\n",
       "0                  Simpson Strong-Tie 12-Gauge Angle       100001       3.00   \n",
       "1                  Simpson Strong-Tie 12-Gauge Angle       100001       2.50   \n",
       "2  BEHR Premium Textured DeckOver 1-gal. #SC-141 ...       100002       3.00   \n",
       "3  Delta Vero 1-Handle Shower Only Faucet Trim Ki...       100005       2.33   \n",
       "4  Delta Vero 1-Handle Shower Only Faucet Trim Ki...       100005       2.67   \n",
       "\n",
       "          search_term                                product_description  \\\n",
       "0       angle bracket  Not only do angles make joints stronger, they ...   \n",
       "1           l bracket  Not only do angles make joints stronger, they ...   \n",
       "2           deck over  BEHR Premium Textured DECKOVER is an innovativ...   \n",
       "3    rain shower head  Update your bathroom with the Delta Vero Singl...   \n",
       "4  shower only faucet  Update your bathroom with the Delta Vero Singl...   \n",
       "\n",
       "                            brand color          material  \\\n",
       "0              Simpson Strong-Tie   NaN  Galvanized Steel   \n",
       "1              Simpson Strong-Tie   NaN  Galvanized Steel   \n",
       "2  BEHR Premium Textured DeckOver   NaN               NaN   \n",
       "3                           Delta   NaN               NaN   \n",
       "4                           Delta   NaN               NaN   \n",
       "\n",
       "                                     search_term_sys  \n",
       "0  angle slant angle Angle angle lean tilt tip sl...  \n",
       "1  liter litre l cubic_decimeter cubic_decimetre ...  \n",
       "2  deck deck pack_of_cards deck_of_cards deck dec...  \n",
       "3  rain rainfall rain rainwater rain pelting rain...  \n",
       "4  shower shower shower_bath shower rain_shower s...  "
      ]
     },
     "execution_count": 22,
     "metadata": {},
     "output_type": "execute_result"
    }
   ],
   "source": [
    "df_merge_2.head()"
   ]
  },
  {
   "cell_type": "markdown",
   "metadata": {},
   "source": [
    "### Data Cleaning and Processing"
   ]
  },
  {
   "cell_type": "markdown",
   "metadata": {},
   "source": [
    "One of the most important rules in data pipeline creation is cleaning and processing the data. As I said before, we are trying to predict the relevance of a search query to a specific product. We will be comparing words and phrases to see if there is a match between them.\n",
    "\n",
    "However, the `search_term` (query) column was entered by a human being which is likely to have a misspelling or grammatical errors.  (i.e, if someone enters chaires in a search box, the user should receive an accurate result even though the input was misspelled).\n",
    "\n",
    "To increase the accuracy of the result, we will be modifying each word in our dataset using the nltk package. We will change the word into an unbiased and neutral format to increase the likelihood that two words match even though they are conjugated in a different tense or misspelled for example."
   ]
  },
  {
   "cell_type": "markdown",
   "metadata": {},
   "source": [
    "### Download the NLTK kits."
   ]
  },
  {
   "cell_type": "markdown",
   "metadata": {},
   "source": [
    "The Natural Language Processing Python Kit comes with severeral installed packages and corpus. We will only use some of them."
   ]
  },
  {
   "cell_type": "code",
   "execution_count": 23,
   "metadata": {
    "colab": {
     "autoexec": {
      "startup": false,
      "wait_interval": 0
     },
     "base_uri": "https://localhost:8080/",
     "height": 121
    },
    "colab_type": "code",
    "executionInfo": {
     "elapsed": 1457,
     "status": "ok",
     "timestamp": 1526786554723,
     "user": {
      "displayName": "SRIHA Mohamed",
      "photoUrl": "//lh5.googleusercontent.com/-XM6rLh3fxpo/AAAAAAAAAAI/AAAAAAAAAAA/W_br5yKx7q8/s50-c-k-no/photo.jpg",
      "userId": "101590173883877601113"
     },
     "user_tz": 240
    },
    "id": "-3oegGzIoHCR",
    "outputId": "8de091dc-3b03-4483-d9b5-9f5c4d7c7a77"
   },
   "outputs": [
    {
     "name": "stdout",
     "output_type": "stream",
     "text": [
      "[nltk_data] Downloading package stopwords to\n",
      "[nltk_data]     C:\\Users\\medSr\\AppData\\Roaming\\nltk_data...\n",
      "[nltk_data]   Package stopwords is already up-to-date!\n",
      "[nltk_data] Downloading package wordnet to\n",
      "[nltk_data]     C:\\Users\\medSr\\AppData\\Roaming\\nltk_data...\n",
      "[nltk_data]   Package wordnet is already up-to-date!\n",
      "[nltk_data] Downloading package punkt to\n",
      "[nltk_data]     C:\\Users\\medSr\\AppData\\Roaming\\nltk_data...\n",
      "[nltk_data]   Package punkt is already up-to-date!\n"
     ]
    }
   ],
   "source": [
    "nltk.download('stopwords')\n",
    "nltk.download('wordnet')\n",
    "nltk.download('punkt')\n",
    "stopwords = nltk.corpus.stopwords.words('english')\n",
    "stemmer = SnowballStemmer('english')\n",
    "lemma = lemmatizer=nltk.stem.wordnet.WordNetLemmatizer()"
   ]
  },
  {
   "cell_type": "code",
   "execution_count": 24,
   "metadata": {
    "colab": {
     "autoexec": {
      "startup": false,
      "wait_interval": 0
     }
    },
    "colab_type": "code",
    "id": "vcVBC6b-oHCX"
   },
   "outputs": [],
   "source": [
    "def process (text):\n",
    "    text = str(text)\n",
    "    text = text.lower()\n",
    "    #Reference: https://www.kaggle.com/the1owl/rf-mean-squared-error/code\n",
    "    text = re.sub(r\"([0-9]+)( *)(inches|inch|in|')\\.?\", r\"\\1in. \", text)\n",
    "    text = re.sub(r\"([0-9]+)( *)(foot|feet|ft|'')\\.?\", r\"\\1ft. \", text)\n",
    "    text = re.sub(r\"([0-9]+)( *)(pounds|pound|lbs|lb)\\.?\", r\"\\1lb. \", text)\n",
    "    text = re.sub(r\"([0-9]+)( *)(square|sq) ?\\.?(feet|foot|ft)\\.?\", r\"\\1sq.ft. \", text)\n",
    "    text = re.sub(r\"([0-9]+)( *)(cubic|cu) ?\\.?(feet|foot|ft)\\.?\", r\"\\1cu.ft. \", text)\n",
    "    text = re.sub(r\"([0-9]+)( *)(gallons|gallon|gal)\\.?\", r\"\\1gal. \", text)\n",
    "    text = re.sub(r\"([0-9]+)( *)(ounces|ounce|oz)\\.?\", r\"\\1oz. \", text)\n",
    "    text = re.sub(r\"([0-9]+)( *)(centimeters|cm)\\.?\", r\"\\1cm. \", text)\n",
    "    text = re.sub(r\"([0-9]+)( *)(milimeters|mm)\\.?\", r\"\\1mm. \", text)\n",
    "    text = text.replace(\"°\",\" degrees \")\n",
    "    text = re.sub(r\"([0-9]+)( *)(degrees|degree)\\.?\", r\"\\1deg. \", text)\n",
    "    text = text.replace(\" v \",\" volts \")\n",
    "    text = re.sub(r\"([0-9]+)( *)(volts|volt)\\.?\", r\"\\1volt. \", text)\n",
    "    text = re.sub(r\"([0-9]+)( *)(watts|watt)\\.?\", r\"\\1watt. \", text)\n",
    "    text = re.sub(r\"([0-9]+)( *)(amperes|ampere|amps|amp)\\.?\", r\"\\1amp. \", text)\n",
    "    #stop reference\n",
    "\n",
    "    text = \" \".join([x for x in text.split(\" \") if x not in stopwords])\n",
    "    \n",
    "    text = \" \".join([stemmer.stem(x) for x in text.split(\" \")])\n",
    "    \n",
    "    text = \" \".join([lemma.lemmatize(x) for x in text.split(\" \")])\n",
    "    \n",
    "    text = \"\".join([\" \" if i in string.punctuation else i for i in text])\n",
    "    \n",
    "    text = text.replace(\"  \",\" \")\n",
    "    \n",
    "    return text"
   ]
  },
  {
   "cell_type": "markdown",
   "metadata": {},
   "source": [
    "Process all the columns."
   ]
  },
  {
   "cell_type": "code",
   "execution_count": 25,
   "metadata": {
    "colab": {
     "autoexec": {
      "startup": false,
      "wait_interval": 0
     }
    },
    "colab_type": "code",
    "id": "iHtyh97joHCa"
   },
   "outputs": [],
   "source": [
    "def process_all(df):\n",
    "    data = df.copy()\n",
    "    #calling the fill_na function\n",
    "    data = fill_na(data)\n",
    "    #brand\n",
    "    data['brand'] = data['brand'].apply(lambda x : process(x))\n",
    "    #search terms\n",
    "    data['search_term'] = data['search_term'].apply(lambda x : process(x))\n",
    "    #product description\n",
    "    data['product_description'] = data['product_description'].apply(lambda x : process(x))\n",
    "    #product title\n",
    "    data['product_title'] = data['product_title'].apply(lambda x : process(x))\n",
    "    #material\n",
    "    data['material'] = data['material'].apply(lambda x : process(x))\n",
    "    #sys\n",
    "    data['search_term_sys'] = data['search_term_sys'].apply(lambda x : process(x))\n",
    "    return data"
   ]
  },
  {
   "cell_type": "code",
   "execution_count": 26,
   "metadata": {},
   "outputs": [],
   "source": [
    "df_process_all = process_all(df_merge_2)"
   ]
  },
  {
   "cell_type": "code",
   "execution_count": 27,
   "metadata": {},
   "outputs": [
    {
     "data": {
      "text/html": [
       "<div>\n",
       "<style scoped>\n",
       "    .dataframe tbody tr th:only-of-type {\n",
       "        vertical-align: middle;\n",
       "    }\n",
       "\n",
       "    .dataframe tbody tr th {\n",
       "        vertical-align: top;\n",
       "    }\n",
       "\n",
       "    .dataframe thead th {\n",
       "        text-align: right;\n",
       "    }\n",
       "</style>\n",
       "<table border=\"1\" class=\"dataframe\">\n",
       "  <thead>\n",
       "    <tr style=\"text-align: right;\">\n",
       "      <th></th>\n",
       "      <th>product_title</th>\n",
       "      <th>product_uid</th>\n",
       "      <th>relevance</th>\n",
       "      <th>search_term</th>\n",
       "      <th>product_description</th>\n",
       "      <th>brand</th>\n",
       "      <th>color</th>\n",
       "      <th>material</th>\n",
       "      <th>search_term_sys</th>\n",
       "    </tr>\n",
       "  </thead>\n",
       "  <tbody>\n",
       "    <tr>\n",
       "      <th>0</th>\n",
       "      <td>simpson strong ti 12 gaug angl</td>\n",
       "      <td>100001</td>\n",
       "      <td>3.00</td>\n",
       "      <td>angl bracket</td>\n",
       "      <td>angl make joint stronger also provid consisten...</td>\n",
       "      <td>simpson strong ti</td>\n",
       "      <td></td>\n",
       "      <td>galvan steel</td>\n",
       "      <td>angl slant angl angl angl lean tilt tip slant ...</td>\n",
       "    </tr>\n",
       "    <tr>\n",
       "      <th>1</th>\n",
       "      <td>simpson strong ti 12 gaug angl</td>\n",
       "      <td>100001</td>\n",
       "      <td>2.50</td>\n",
       "      <td>l bracket</td>\n",
       "      <td>angl make joint stronger also provid consisten...</td>\n",
       "      <td>simpson strong ti</td>\n",
       "      <td></td>\n",
       "      <td>galvan steel</td>\n",
       "      <td>liter litr l cubic decimet cubic decimetr fift...</td>\n",
       "    </tr>\n",
       "    <tr>\n",
       "      <th>2</th>\n",
       "      <td>behr premium textur deckov 1 gal  sc 141 tugbo...</td>\n",
       "      <td>100002</td>\n",
       "      <td>3.00</td>\n",
       "      <td>deck</td>\n",
       "      <td>behr premium textur deckov innov solid color c...</td>\n",
       "      <td>behr premium textur deckov</td>\n",
       "      <td></td>\n",
       "      <td></td>\n",
       "      <td>deck deck pack of card deck of card deck deck ...</td>\n",
       "    </tr>\n",
       "    <tr>\n",
       "      <th>3</th>\n",
       "      <td>delta vero 1 handl shower faucet trim kit chro...</td>\n",
       "      <td>100005</td>\n",
       "      <td>2.33</td>\n",
       "      <td>rain shower head</td>\n",
       "      <td>updat bathroom delta vero single handl shower ...</td>\n",
       "      <td>delta</td>\n",
       "      <td></td>\n",
       "      <td></td>\n",
       "      <td>rain rainfal rain rainwat rain pelt rain rain ...</td>\n",
       "    </tr>\n",
       "    <tr>\n",
       "      <th>4</th>\n",
       "      <td>delta vero 1 handl shower faucet trim kit chro...</td>\n",
       "      <td>100005</td>\n",
       "      <td>2.67</td>\n",
       "      <td>shower faucet</td>\n",
       "      <td>updat bathroom delta vero single handl shower ...</td>\n",
       "      <td>delta</td>\n",
       "      <td></td>\n",
       "      <td></td>\n",
       "      <td>shower shower shower bath shower rain show sho...</td>\n",
       "    </tr>\n",
       "  </tbody>\n",
       "</table>\n",
       "</div>"
      ],
      "text/plain": [
       "                                       product_title  product_uid  relevance  \\\n",
       "0                     simpson strong ti 12 gaug angl       100001       3.00   \n",
       "1                     simpson strong ti 12 gaug angl       100001       2.50   \n",
       "2  behr premium textur deckov 1 gal  sc 141 tugbo...       100002       3.00   \n",
       "3  delta vero 1 handl shower faucet trim kit chro...       100005       2.33   \n",
       "4  delta vero 1 handl shower faucet trim kit chro...       100005       2.67   \n",
       "\n",
       "        search_term                                product_description  \\\n",
       "0      angl bracket  angl make joint stronger also provid consisten...   \n",
       "1         l bracket  angl make joint stronger also provid consisten...   \n",
       "2              deck  behr premium textur deckov innov solid color c...   \n",
       "3  rain shower head  updat bathroom delta vero single handl shower ...   \n",
       "4     shower faucet  updat bathroom delta vero single handl shower ...   \n",
       "\n",
       "                        brand color      material  \\\n",
       "0           simpson strong ti        galvan steel   \n",
       "1           simpson strong ti        galvan steel   \n",
       "2  behr premium textur deckov                       \n",
       "3                       delta                       \n",
       "4                       delta                       \n",
       "\n",
       "                                     search_term_sys  \n",
       "0  angl slant angl angl angl lean tilt tip slant ...  \n",
       "1  liter litr l cubic decimet cubic decimetr fift...  \n",
       "2  deck deck pack of card deck of card deck deck ...  \n",
       "3  rain rainfal rain rainwat rain pelt rain rain ...  \n",
       "4  shower shower shower bath shower rain show sho...  "
      ]
     },
     "execution_count": 27,
     "metadata": {},
     "output_type": "execute_result"
    }
   ],
   "source": [
    "df_process_all.head()"
   ]
  },
  {
   "cell_type": "markdown",
   "metadata": {},
   "source": [
    "Now that the data has been cleaned and processed, the next step is to apply the same `length()` function on the former attributes as well as on the new ones."
   ]
  },
  {
   "cell_type": "code",
   "execution_count": 28,
   "metadata": {},
   "outputs": [],
   "source": [
    "def length_2(df):\n",
    "    data = df.copy().astype(str)\n",
    "    #search\n",
    "    data['length_search_terms'] = data['search_term'].map(lambda x : len(x.split()))\n",
    "    #title\n",
    "    data['length_product_title'] = data['product_title'].map(lambda x :len(x.split()))\n",
    "    #pt description\n",
    "    data['length_product_description'] = data['product_description'].map(lambda x: len(x.split()))\n",
    "    #***New features***\n",
    "    #brand\n",
    "    data['length_brand'] = data['brand'].map(lambda x : len(x.split()))\n",
    "    #color\n",
    "    data['length_color'] = data['color'].map(lambda x: len(x.split()))\n",
    "    #material\n",
    "    data['length_material'] = data['material'].map(lambda x: len(x.split()))\n",
    "    #sys\n",
    "    data['length_sys'] = data ['search_term_sys'].map(lambda x: len(x.split()))\n",
    "    return data"
   ]
  },
  {
   "cell_type": "code",
   "execution_count": 29,
   "metadata": {},
   "outputs": [],
   "source": [
    "length_attributes_2 = length_2(df_process_all)"
   ]
  },
  {
   "cell_type": "code",
   "execution_count": 30,
   "metadata": {},
   "outputs": [
    {
     "data": {
      "text/html": [
       "<div>\n",
       "<style scoped>\n",
       "    .dataframe tbody tr th:only-of-type {\n",
       "        vertical-align: middle;\n",
       "    }\n",
       "\n",
       "    .dataframe tbody tr th {\n",
       "        vertical-align: top;\n",
       "    }\n",
       "\n",
       "    .dataframe thead th {\n",
       "        text-align: right;\n",
       "    }\n",
       "</style>\n",
       "<table border=\"1\" class=\"dataframe\">\n",
       "  <thead>\n",
       "    <tr style=\"text-align: right;\">\n",
       "      <th></th>\n",
       "      <th>product_title</th>\n",
       "      <th>product_uid</th>\n",
       "      <th>relevance</th>\n",
       "      <th>search_term</th>\n",
       "      <th>product_description</th>\n",
       "      <th>brand</th>\n",
       "      <th>color</th>\n",
       "      <th>material</th>\n",
       "      <th>search_term_sys</th>\n",
       "      <th>length_search_terms</th>\n",
       "      <th>length_product_title</th>\n",
       "      <th>length_product_description</th>\n",
       "      <th>length_brand</th>\n",
       "      <th>length_color</th>\n",
       "      <th>length_material</th>\n",
       "      <th>length_sys</th>\n",
       "    </tr>\n",
       "  </thead>\n",
       "  <tbody>\n",
       "    <tr>\n",
       "      <th>0</th>\n",
       "      <td>simpson strong ti 12 gaug angl</td>\n",
       "      <td>100001</td>\n",
       "      <td>3.0</td>\n",
       "      <td>angl bracket</td>\n",
       "      <td>angl make joint stronger also provid consisten...</td>\n",
       "      <td>simpson strong ti</td>\n",
       "      <td></td>\n",
       "      <td>galvan steel</td>\n",
       "      <td>angl slant angl angl angl lean tilt tip slant ...</td>\n",
       "      <td>2</td>\n",
       "      <td>6</td>\n",
       "      <td>93</td>\n",
       "      <td>3</td>\n",
       "      <td>0</td>\n",
       "      <td>2</td>\n",
       "      <td>31</td>\n",
       "    </tr>\n",
       "    <tr>\n",
       "      <th>1</th>\n",
       "      <td>simpson strong ti 12 gaug angl</td>\n",
       "      <td>100001</td>\n",
       "      <td>2.5</td>\n",
       "      <td>l bracket</td>\n",
       "      <td>angl make joint stronger also provid consisten...</td>\n",
       "      <td>simpson strong ti</td>\n",
       "      <td></td>\n",
       "      <td>galvan steel</td>\n",
       "      <td>liter litr l cubic decimet cubic decimetr fift...</td>\n",
       "      <td>2</td>\n",
       "      <td>6</td>\n",
       "      <td>93</td>\n",
       "      <td>3</td>\n",
       "      <td>0</td>\n",
       "      <td>2</td>\n",
       "      <td>32</td>\n",
       "    </tr>\n",
       "    <tr>\n",
       "      <th>2</th>\n",
       "      <td>behr premium textur deckov 1 gal  sc 141 tugbo...</td>\n",
       "      <td>100002</td>\n",
       "      <td>3.0</td>\n",
       "      <td>deck</td>\n",
       "      <td>behr premium textur deckov innov solid color c...</td>\n",
       "      <td>behr premium textur deckov</td>\n",
       "      <td></td>\n",
       "      <td></td>\n",
       "      <td>deck deck pack of card deck of card deck deck ...</td>\n",
       "      <td>1</td>\n",
       "      <td>12</td>\n",
       "      <td>125</td>\n",
       "      <td>4</td>\n",
       "      <td>0</td>\n",
       "      <td>0</td>\n",
       "      <td>35</td>\n",
       "    </tr>\n",
       "    <tr>\n",
       "      <th>3</th>\n",
       "      <td>delta vero 1 handl shower faucet trim kit chro...</td>\n",
       "      <td>100005</td>\n",
       "      <td>2.33</td>\n",
       "      <td>rain shower head</td>\n",
       "      <td>updat bathroom delta vero single handl shower ...</td>\n",
       "      <td>delta</td>\n",
       "      <td></td>\n",
       "      <td></td>\n",
       "      <td>rain rainfal rain rainwat rain pelt rain rain ...</td>\n",
       "      <td>3</td>\n",
       "      <td>11</td>\n",
       "      <td>71</td>\n",
       "      <td>1</td>\n",
       "      <td>0</td>\n",
       "      <td>0</td>\n",
       "      <td>120</td>\n",
       "    </tr>\n",
       "    <tr>\n",
       "      <th>4</th>\n",
       "      <td>delta vero 1 handl shower faucet trim kit chro...</td>\n",
       "      <td>100005</td>\n",
       "      <td>2.67</td>\n",
       "      <td>shower faucet</td>\n",
       "      <td>updat bathroom delta vero single handl shower ...</td>\n",
       "      <td>delta</td>\n",
       "      <td></td>\n",
       "      <td></td>\n",
       "      <td>shower shower shower bath shower rain show sho...</td>\n",
       "      <td>2</td>\n",
       "      <td>11</td>\n",
       "      <td>71</td>\n",
       "      <td>1</td>\n",
       "      <td>0</td>\n",
       "      <td>0</td>\n",
       "      <td>38</td>\n",
       "    </tr>\n",
       "  </tbody>\n",
       "</table>\n",
       "</div>"
      ],
      "text/plain": [
       "                                       product_title product_uid relevance  \\\n",
       "0                     simpson strong ti 12 gaug angl      100001       3.0   \n",
       "1                     simpson strong ti 12 gaug angl      100001       2.5   \n",
       "2  behr premium textur deckov 1 gal  sc 141 tugbo...      100002       3.0   \n",
       "3  delta vero 1 handl shower faucet trim kit chro...      100005      2.33   \n",
       "4  delta vero 1 handl shower faucet trim kit chro...      100005      2.67   \n",
       "\n",
       "        search_term                                product_description  \\\n",
       "0      angl bracket  angl make joint stronger also provid consisten...   \n",
       "1         l bracket  angl make joint stronger also provid consisten...   \n",
       "2              deck  behr premium textur deckov innov solid color c...   \n",
       "3  rain shower head  updat bathroom delta vero single handl shower ...   \n",
       "4     shower faucet  updat bathroom delta vero single handl shower ...   \n",
       "\n",
       "                        brand color      material  \\\n",
       "0           simpson strong ti        galvan steel   \n",
       "1           simpson strong ti        galvan steel   \n",
       "2  behr premium textur deckov                       \n",
       "3                       delta                       \n",
       "4                       delta                       \n",
       "\n",
       "                                     search_term_sys  length_search_terms  \\\n",
       "0  angl slant angl angl angl lean tilt tip slant ...                    2   \n",
       "1  liter litr l cubic decimet cubic decimetr fift...                    2   \n",
       "2  deck deck pack of card deck of card deck deck ...                    1   \n",
       "3  rain rainfal rain rainwat rain pelt rain rain ...                    3   \n",
       "4  shower shower shower bath shower rain show sho...                    2   \n",
       "\n",
       "   length_product_title  length_product_description  length_brand  \\\n",
       "0                     6                          93             3   \n",
       "1                     6                          93             3   \n",
       "2                    12                         125             4   \n",
       "3                    11                          71             1   \n",
       "4                    11                          71             1   \n",
       "\n",
       "   length_color  length_material  length_sys  \n",
       "0             0                2          31  \n",
       "1             0                2          32  \n",
       "2             0                0          35  \n",
       "3             0                0         120  \n",
       "4             0                0          38  "
      ]
     },
     "execution_count": 30,
     "metadata": {},
     "output_type": "execute_result"
    }
   ],
   "source": [
    "length_attributes_2.head()"
   ]
  },
  {
   "cell_type": "markdown",
   "metadata": {},
   "source": [
    "## More Features"
   ]
  },
  {
   "cell_type": "markdown",
   "metadata": {},
   "source": [
    "### Vector Space Model"
   ]
  },
  {
   "cell_type": "markdown",
   "metadata": {
    "colab_type": "text",
    "id": "fzWs7ZDLNeNO"
   },
   "source": [
    "#### 1 - **Cosine Similarity**"
   ]
  },
  {
   "cell_type": "markdown",
   "metadata": {},
   "source": [
    "Cosine similarity is generally used as a metric for measuring distance when the magnitude of the vectors does not matter. This happens for example when working with text data represented by word counts. We could assume that when a word (e.g. science) occurs more frequent in document 1 than it does in document 2, that document 1 is more related to the topic of science. The next function will perform the cosine similarity of query to the available documents which are `brand`,`material`,`product_title` and `product_description`."
   ]
  },
  {
   "cell_type": "code",
   "execution_count": 31,
   "metadata": {
    "colab": {
     "autoexec": {
      "startup": false,
      "wait_interval": 0
     },
     "base_uri": "https://localhost:8080/",
     "height": 236
    },
    "colab_type": "code",
    "executionInfo": {
     "elapsed": 402,
     "status": "error",
     "timestamp": 1526786800994,
     "user": {
      "displayName": "SRIHA Mohamed",
      "photoUrl": "//lh5.googleusercontent.com/-XM6rLh3fxpo/AAAAAAAAAAI/AAAAAAAAAAA/W_br5yKx7q8/s50-c-k-no/photo.jpg",
      "userId": "101590173883877601113"
     },
     "user_tz": 240
    },
    "id": "KADYEx7GNdRP",
    "outputId": "e9c8b9c1-e0b2-4705-b7ef-79ad4eb8ca20"
   },
   "outputs": [],
   "source": [
    "import re, math\n",
    "from collections import Counter\n",
    "from scipy import spatial\n",
    "WORD = re.compile(r'\\w+')\n",
    "\n",
    "def get_cosine(vec1, vec2):\n",
    "    intersection = set(vec1.keys()) & set(vec2.keys())\n",
    "    numerator = sum([vec1[x] * vec2[x] for x in intersection])\n",
    "\n",
    "    sum1 = sum([vec1[x]**2 for x in vec1.keys()])\n",
    "    sum2 = sum([vec2[x]**2 for x in vec2.keys()])\n",
    "    denominator = math.sqrt(sum1) * math.sqrt(sum2)\n",
    "\n",
    "    if not denominator:\n",
    "        return 0.0\n",
    "    else:\n",
    "        return float(numerator) / denominator\n"
   ]
  },
  {
   "cell_type": "markdown",
   "metadata": {},
   "source": [
    "Before applying the Cosine Similarity, we need to change the words into vectors."
   ]
  },
  {
   "cell_type": "code",
   "execution_count": 32,
   "metadata": {},
   "outputs": [],
   "source": [
    "def text_to_vector(text):\n",
    "    words = WORD.findall(text)\n",
    "    return Counter(words)"
   ]
  },
  {
   "cell_type": "code",
   "execution_count": 33,
   "metadata": {},
   "outputs": [],
   "source": [
    "def process_cos_sim(df):\n",
    "    data = df.copy()\n",
    "    data['cos_pt_title'] = [get_cosine(text_to_vector(data['search_term'][i]),text_to_vector(data['product_title'][i])) for i in range(len(data))]\n",
    "    data['cos_pt_des'] = [get_cosine(text_to_vector(data['search_term'][i]),text_to_vector(data['product_description'][i])) for i in range(len(data))]\n",
    "    data['cos_brand'] = [get_cosine(text_to_vector(data['search_term'][i]),text_to_vector(data['brand'][i])) for i in range(len(data))]\n",
    "    \n",
    "    return data"
   ]
  },
  {
   "cell_type": "code",
   "execution_count": 34,
   "metadata": {},
   "outputs": [],
   "source": [
    "cos_sim = process_cos_sim(length_attributes_2)"
   ]
  },
  {
   "cell_type": "markdown",
   "metadata": {},
   "source": [
    "#### 2- **Eucilidian Distance**"
   ]
  },
  {
   "cell_type": "markdown",
   "metadata": {},
   "source": [
    "A similar aproch to cosine similarity is the euclidian distance. \n",
    "\n",
    "One informal but rather intuitive way to think about this is to consider the 2 components of a vector: direction and magnitude.\n",
    "\n",
    "When classifying documents we'd like to categorize them by their overall sentiment, so we use the angular distance.\n",
    "\n",
    "Euclidean distance is susceptible to documents being clustered by their L2-norm (magnitude, in the 2 dimensional case) instead of direction. i.e. vectors with quite different directions would be clustered because their distances from origin are similar."
   ]
  },
  {
   "cell_type": "code",
   "execution_count": 35,
   "metadata": {},
   "outputs": [],
   "source": [
    "def eucli(vec1,vec2):\n",
    "    return math.sqrt(sum((vec1[k] - vec2[k])**2 for k in set(vec1.keys()).intersection(set(vec2.keys()))))"
   ]
  },
  {
   "cell_type": "markdown",
   "metadata": {},
   "source": [
    "In our case, there will be no normalization while calculating the Euclidian distance because we noticed an increase in the RMSE. The reason is that the linear models from Sckit-learn package standardizes all features prior any training. "
   ]
  },
  {
   "cell_type": "code",
   "execution_count": 36,
   "metadata": {},
   "outputs": [],
   "source": [
    "def euclidian(df):\n",
    "    data = df.copy()\n",
    "    data['euc_product_description'] = [eucli(text_to_vector(data['search_term'][i]),text_to_vector(data['product_description'][i])) for i in range(len(data))]\n",
    "    data['euc_product_title'] = [eucli(text_to_vector(data['search_term'][i]),text_to_vector(data['product_title'][i])) for i in range(len(data))]\n",
    "    data['euc_product_brand'] = [eucli(text_to_vector(data['search_term'][i]),text_to_vector(data['brand'][i])) for i in range(len(data))]\n",
    "    \n",
    "    return data"
   ]
  },
  {
   "cell_type": "code",
   "execution_count": 37,
   "metadata": {},
   "outputs": [],
   "source": [
    "eucli = euclidian(cos_sim)"
   ]
  },
  {
   "cell_type": "code",
   "execution_count": 38,
   "metadata": {},
   "outputs": [
    {
     "data": {
      "text/html": [
       "<div>\n",
       "<style scoped>\n",
       "    .dataframe tbody tr th:only-of-type {\n",
       "        vertical-align: middle;\n",
       "    }\n",
       "\n",
       "    .dataframe tbody tr th {\n",
       "        vertical-align: top;\n",
       "    }\n",
       "\n",
       "    .dataframe thead th {\n",
       "        text-align: right;\n",
       "    }\n",
       "</style>\n",
       "<table border=\"1\" class=\"dataframe\">\n",
       "  <thead>\n",
       "    <tr style=\"text-align: right;\">\n",
       "      <th></th>\n",
       "      <th>product_title</th>\n",
       "      <th>product_uid</th>\n",
       "      <th>relevance</th>\n",
       "      <th>search_term</th>\n",
       "      <th>product_description</th>\n",
       "      <th>brand</th>\n",
       "      <th>color</th>\n",
       "      <th>material</th>\n",
       "      <th>search_term_sys</th>\n",
       "      <th>length_search_terms</th>\n",
       "      <th>...</th>\n",
       "      <th>length_brand</th>\n",
       "      <th>length_color</th>\n",
       "      <th>length_material</th>\n",
       "      <th>length_sys</th>\n",
       "      <th>cos_pt_title</th>\n",
       "      <th>cos_pt_des</th>\n",
       "      <th>cos_brand</th>\n",
       "      <th>euc_product_description</th>\n",
       "      <th>euc_product_title</th>\n",
       "      <th>euc_product_brand</th>\n",
       "    </tr>\n",
       "  </thead>\n",
       "  <tbody>\n",
       "    <tr>\n",
       "      <th>0</th>\n",
       "      <td>simpson strong ti 12 gaug angl</td>\n",
       "      <td>100001</td>\n",
       "      <td>3.0</td>\n",
       "      <td>angl bracket</td>\n",
       "      <td>angl make joint stronger also provid consisten...</td>\n",
       "      <td>simpson strong ti</td>\n",
       "      <td></td>\n",
       "      <td>galvan steel</td>\n",
       "      <td>angl slant angl angl angl lean tilt tip slant ...</td>\n",
       "      <td>2</td>\n",
       "      <td>...</td>\n",
       "      <td>3</td>\n",
       "      <td>0</td>\n",
       "      <td>2</td>\n",
       "      <td>31</td>\n",
       "      <td>0.288675</td>\n",
       "      <td>0.174964</td>\n",
       "      <td>0.0</td>\n",
       "      <td>2.0</td>\n",
       "      <td>0.0</td>\n",
       "      <td>0.0</td>\n",
       "    </tr>\n",
       "    <tr>\n",
       "      <th>1</th>\n",
       "      <td>simpson strong ti 12 gaug angl</td>\n",
       "      <td>100001</td>\n",
       "      <td>2.5</td>\n",
       "      <td>l bracket</td>\n",
       "      <td>angl make joint stronger also provid consisten...</td>\n",
       "      <td>simpson strong ti</td>\n",
       "      <td></td>\n",
       "      <td>galvan steel</td>\n",
       "      <td>liter litr l cubic decimet cubic decimetr fift...</td>\n",
       "      <td>2</td>\n",
       "      <td>...</td>\n",
       "      <td>3</td>\n",
       "      <td>0</td>\n",
       "      <td>2</td>\n",
       "      <td>32</td>\n",
       "      <td>0.000000</td>\n",
       "      <td>0.000000</td>\n",
       "      <td>0.0</td>\n",
       "      <td>0.0</td>\n",
       "      <td>0.0</td>\n",
       "      <td>0.0</td>\n",
       "    </tr>\n",
       "    <tr>\n",
       "      <th>2</th>\n",
       "      <td>behr premium textur deckov 1 gal  sc 141 tugbo...</td>\n",
       "      <td>100002</td>\n",
       "      <td>3.0</td>\n",
       "      <td>deck</td>\n",
       "      <td>behr premium textur deckov innov solid color c...</td>\n",
       "      <td>behr premium textur deckov</td>\n",
       "      <td></td>\n",
       "      <td></td>\n",
       "      <td>deck deck pack of card deck of card deck deck ...</td>\n",
       "      <td>1</td>\n",
       "      <td>...</td>\n",
       "      <td>4</td>\n",
       "      <td>0</td>\n",
       "      <td>0</td>\n",
       "      <td>35</td>\n",
       "      <td>0.000000</td>\n",
       "      <td>0.076472</td>\n",
       "      <td>0.0</td>\n",
       "      <td>0.0</td>\n",
       "      <td>0.0</td>\n",
       "      <td>0.0</td>\n",
       "    </tr>\n",
       "    <tr>\n",
       "      <th>3</th>\n",
       "      <td>delta vero 1 handl shower faucet trim kit chro...</td>\n",
       "      <td>100005</td>\n",
       "      <td>2.33</td>\n",
       "      <td>rain shower head</td>\n",
       "      <td>updat bathroom delta vero single handl shower ...</td>\n",
       "      <td>delta</td>\n",
       "      <td></td>\n",
       "      <td></td>\n",
       "      <td>rain rainfal rain rainwat rain pelt rain rain ...</td>\n",
       "      <td>3</td>\n",
       "      <td>...</td>\n",
       "      <td>1</td>\n",
       "      <td>0</td>\n",
       "      <td>0</td>\n",
       "      <td>120</td>\n",
       "      <td>0.174078</td>\n",
       "      <td>0.062622</td>\n",
       "      <td>0.0</td>\n",
       "      <td>0.0</td>\n",
       "      <td>0.0</td>\n",
       "      <td>0.0</td>\n",
       "    </tr>\n",
       "    <tr>\n",
       "      <th>4</th>\n",
       "      <td>delta vero 1 handl shower faucet trim kit chro...</td>\n",
       "      <td>100005</td>\n",
       "      <td>2.67</td>\n",
       "      <td>shower faucet</td>\n",
       "      <td>updat bathroom delta vero single handl shower ...</td>\n",
       "      <td>delta</td>\n",
       "      <td></td>\n",
       "      <td></td>\n",
       "      <td>shower shower shower bath shower rain show sho...</td>\n",
       "      <td>2</td>\n",
       "      <td>...</td>\n",
       "      <td>1</td>\n",
       "      <td>0</td>\n",
       "      <td>0</td>\n",
       "      <td>38</td>\n",
       "      <td>0.426401</td>\n",
       "      <td>0.153393</td>\n",
       "      <td>0.0</td>\n",
       "      <td>0.0</td>\n",
       "      <td>0.0</td>\n",
       "      <td>0.0</td>\n",
       "    </tr>\n",
       "  </tbody>\n",
       "</table>\n",
       "<p>5 rows × 22 columns</p>\n",
       "</div>"
      ],
      "text/plain": [
       "                                       product_title product_uid relevance  \\\n",
       "0                     simpson strong ti 12 gaug angl      100001       3.0   \n",
       "1                     simpson strong ti 12 gaug angl      100001       2.5   \n",
       "2  behr premium textur deckov 1 gal  sc 141 tugbo...      100002       3.0   \n",
       "3  delta vero 1 handl shower faucet trim kit chro...      100005      2.33   \n",
       "4  delta vero 1 handl shower faucet trim kit chro...      100005      2.67   \n",
       "\n",
       "        search_term                                product_description  \\\n",
       "0      angl bracket  angl make joint stronger also provid consisten...   \n",
       "1         l bracket  angl make joint stronger also provid consisten...   \n",
       "2              deck  behr premium textur deckov innov solid color c...   \n",
       "3  rain shower head  updat bathroom delta vero single handl shower ...   \n",
       "4     shower faucet  updat bathroom delta vero single handl shower ...   \n",
       "\n",
       "                        brand color      material  \\\n",
       "0           simpson strong ti        galvan steel   \n",
       "1           simpson strong ti        galvan steel   \n",
       "2  behr premium textur deckov                       \n",
       "3                       delta                       \n",
       "4                       delta                       \n",
       "\n",
       "                                     search_term_sys  length_search_terms  \\\n",
       "0  angl slant angl angl angl lean tilt tip slant ...                    2   \n",
       "1  liter litr l cubic decimet cubic decimetr fift...                    2   \n",
       "2  deck deck pack of card deck of card deck deck ...                    1   \n",
       "3  rain rainfal rain rainwat rain pelt rain rain ...                    3   \n",
       "4  shower shower shower bath shower rain show sho...                    2   \n",
       "\n",
       "         ...          length_brand  length_color  length_material  length_sys  \\\n",
       "0        ...                     3             0                2          31   \n",
       "1        ...                     3             0                2          32   \n",
       "2        ...                     4             0                0          35   \n",
       "3        ...                     1             0                0         120   \n",
       "4        ...                     1             0                0          38   \n",
       "\n",
       "   cos_pt_title  cos_pt_des  cos_brand  euc_product_description  \\\n",
       "0      0.288675    0.174964        0.0                      2.0   \n",
       "1      0.000000    0.000000        0.0                      0.0   \n",
       "2      0.000000    0.076472        0.0                      0.0   \n",
       "3      0.174078    0.062622        0.0                      0.0   \n",
       "4      0.426401    0.153393        0.0                      0.0   \n",
       "\n",
       "   euc_product_title  euc_product_brand  \n",
       "0                0.0                0.0  \n",
       "1                0.0                0.0  \n",
       "2                0.0                0.0  \n",
       "3                0.0                0.0  \n",
       "4                0.0                0.0  \n",
       "\n",
       "[5 rows x 22 columns]"
      ]
     },
     "execution_count": 38,
     "metadata": {},
     "output_type": "execute_result"
    }
   ],
   "source": [
    "eucli.head()"
   ]
  },
  {
   "cell_type": "markdown",
   "metadata": {
    "colab": {
     "autoexec": {
      "startup": false,
      "wait_interval": 0
     }
    },
    "colab_type": "code",
    "id": "YIf4n7v3oHCo"
   },
   "source": [
    "### Word Count"
   ]
  },
  {
   "cell_type": "markdown",
   "metadata": {},
   "source": [
    "A word count is a handy function when we are dealing with matching strings. Again, in this notebook, we are trying to predict the relevance of a query with a specific product. In our case, the word count function will count the number of time a word in a query appears within the different attributes `brand`, `product_description`, etc..\n",
    "\n",
    "Counting the number of apparition of word will facilitate the location of the word in the different attributes. I.e, if a word has 0 counts toward a specific feature, means that the word is absent, which will obviously make its relevance low."
   ]
  },
  {
   "cell_type": "code",
   "execution_count": 39,
   "metadata": {
    "colab": {
     "autoexec": {
      "startup": false,
      "wait_interval": 0
     }
    },
    "colab_type": "code",
    "id": "UQmyT4FVoHCs"
   },
   "outputs": [],
   "source": [
    "def search_term_count(strs):\n",
    "    str_words, str_search = strs\n",
    "    return sum(int(str_search.find(word) >= 0) for word in str_words.split())"
   ]
  },
  {
   "cell_type": "markdown",
   "metadata": {},
   "source": [
    "Process all the features."
   ]
  },
  {
   "cell_type": "code",
   "execution_count": 40,
   "metadata": {
    "colab": {
     "autoexec": {
      "startup": false,
      "wait_interval": 0
     }
    },
    "colab_type": "code",
    "id": "TB663YENoHCw"
   },
   "outputs": [],
   "source": [
    "def process_search_term_count(df):\n",
    "    data = df.copy()\n",
    "    #pt discription\n",
    "    data['total_search_term_in_product_disc'] = data[['search_term','product_description']].apply(search_term_count,axis=1)\n",
    "    data['total_sys_in_prosuct_disc'] = data[['search_term_sys','product_description']].apply(search_term_count,axis=1)\n",
    "    #brand\n",
    "    data['total_search_term_in_brand'] = data[['search_term','brand']].apply(search_term_count,axis=1)\n",
    "    data['total_sys_term_in_brand'] = data[['search_term_sys','brand']].apply(search_term_count,axis=1)\n",
    "    #title\n",
    "    data['total_search_term_product_title'] = data[['search_term','product_title']].apply(search_term_count,axis=1)\n",
    "    data['total_sys_term_product_title'] = data[['search_term_sys','product_title']].apply(search_term_count,axis=1)\n",
    "    #color\n",
    "    data['total_search_term_color'] = data[['search_term','color']].apply(search_term_count,axis=1)\n",
    "    data['total_sys_term_color'] = data[['search_term_sys','color']].apply(search_term_count,axis=1)\n",
    "    #material\n",
    "    data['total_search_term_material'] = data[['search_term','material']].apply(search_term_count,axis=1)\n",
    "    data['total_sys_term_material'] = data[['search_term_sys','material']].apply(search_term_count,axis=1)\n",
    "    #sys\n",
    "    data['total_search_term_sys'] = data[['search_term','search_term_sys']].apply(search_term_count,axis=1)\n",
    "    \n",
    "    return data"
   ]
  },
  {
   "cell_type": "code",
   "execution_count": 41,
   "metadata": {
    "colab": {
     "autoexec": {
      "startup": false,
      "wait_interval": 0
     },
     "base_uri": "https://localhost:8080/",
     "height": 494
    },
    "colab_type": "code",
    "executionInfo": {
     "elapsed": 26717,
     "status": "ok",
     "timestamp": 1526779865427,
     "user": {
      "displayName": "SRIHA Mohamed",
      "photoUrl": "//lh5.googleusercontent.com/-XM6rLh3fxpo/AAAAAAAAAAI/AAAAAAAAAAA/W_br5yKx7q8/s50-c-k-no/photo.jpg",
      "userId": "101590173883877601113"
     },
     "user_tz": 240
    },
    "id": "AmW8wsXtoHC4",
    "outputId": "2f29af15-349b-4238-f680-a098ee53f1a8"
   },
   "outputs": [
    {
     "data": {
      "text/html": [
       "<div>\n",
       "<style scoped>\n",
       "    .dataframe tbody tr th:only-of-type {\n",
       "        vertical-align: middle;\n",
       "    }\n",
       "\n",
       "    .dataframe tbody tr th {\n",
       "        vertical-align: top;\n",
       "    }\n",
       "\n",
       "    .dataframe thead th {\n",
       "        text-align: right;\n",
       "    }\n",
       "</style>\n",
       "<table border=\"1\" class=\"dataframe\">\n",
       "  <thead>\n",
       "    <tr style=\"text-align: right;\">\n",
       "      <th></th>\n",
       "      <th>product_title</th>\n",
       "      <th>product_uid</th>\n",
       "      <th>relevance</th>\n",
       "      <th>search_term</th>\n",
       "      <th>product_description</th>\n",
       "      <th>brand</th>\n",
       "      <th>color</th>\n",
       "      <th>material</th>\n",
       "      <th>search_term_sys</th>\n",
       "      <th>length_search_terms</th>\n",
       "      <th>...</th>\n",
       "      <th>total_sys_in_prosuct_disc</th>\n",
       "      <th>total_search_term_in_brand</th>\n",
       "      <th>total_sys_term_in_brand</th>\n",
       "      <th>total_search_term_product_title</th>\n",
       "      <th>total_sys_term_product_title</th>\n",
       "      <th>total_search_term_color</th>\n",
       "      <th>total_sys_term_color</th>\n",
       "      <th>total_search_term_material</th>\n",
       "      <th>total_sys_term_material</th>\n",
       "      <th>total_search_term_sys</th>\n",
       "    </tr>\n",
       "  </thead>\n",
       "  <tbody>\n",
       "    <tr>\n",
       "      <th>0</th>\n",
       "      <td>simpson strong ti 12 gaug angl</td>\n",
       "      <td>100001</td>\n",
       "      <td>3.0</td>\n",
       "      <td>angl bracket</td>\n",
       "      <td>angl make joint stronger also provid consisten...</td>\n",
       "      <td>simpson strong ti</td>\n",
       "      <td></td>\n",
       "      <td>galvan steel</td>\n",
       "      <td>angl slant angl angl angl lean tilt tip slant ...</td>\n",
       "      <td>2</td>\n",
       "      <td>...</td>\n",
       "      <td>9</td>\n",
       "      <td>0</td>\n",
       "      <td>0</td>\n",
       "      <td>1</td>\n",
       "      <td>8</td>\n",
       "      <td>0</td>\n",
       "      <td>0</td>\n",
       "      <td>0</td>\n",
       "      <td>0</td>\n",
       "      <td>2</td>\n",
       "    </tr>\n",
       "    <tr>\n",
       "      <th>1</th>\n",
       "      <td>simpson strong ti 12 gaug angl</td>\n",
       "      <td>100001</td>\n",
       "      <td>2.5</td>\n",
       "      <td>l bracket</td>\n",
       "      <td>angl make joint stronger also provid consisten...</td>\n",
       "      <td>simpson strong ti</td>\n",
       "      <td></td>\n",
       "      <td>galvan steel</td>\n",
       "      <td>liter litr l cubic decimet cubic decimetr fift...</td>\n",
       "      <td>2</td>\n",
       "      <td>...</td>\n",
       "      <td>7</td>\n",
       "      <td>0</td>\n",
       "      <td>0</td>\n",
       "      <td>1</td>\n",
       "      <td>6</td>\n",
       "      <td>0</td>\n",
       "      <td>0</td>\n",
       "      <td>1</td>\n",
       "      <td>6</td>\n",
       "      <td>2</td>\n",
       "    </tr>\n",
       "    <tr>\n",
       "      <th>2</th>\n",
       "      <td>behr premium textur deckov 1 gal  sc 141 tugbo...</td>\n",
       "      <td>100002</td>\n",
       "      <td>3.0</td>\n",
       "      <td>deck</td>\n",
       "      <td>behr premium textur deckov innov solid color c...</td>\n",
       "      <td>behr premium textur deckov</td>\n",
       "      <td></td>\n",
       "      <td></td>\n",
       "      <td>deck deck pack of card deck of card deck deck ...</td>\n",
       "      <td>1</td>\n",
       "      <td>...</td>\n",
       "      <td>14</td>\n",
       "      <td>1</td>\n",
       "      <td>11</td>\n",
       "      <td>1</td>\n",
       "      <td>11</td>\n",
       "      <td>0</td>\n",
       "      <td>0</td>\n",
       "      <td>0</td>\n",
       "      <td>0</td>\n",
       "      <td>1</td>\n",
       "    </tr>\n",
       "    <tr>\n",
       "      <th>3</th>\n",
       "      <td>delta vero 1 handl shower faucet trim kit chro...</td>\n",
       "      <td>100005</td>\n",
       "      <td>2.33</td>\n",
       "      <td>rain shower head</td>\n",
       "      <td>updat bathroom delta vero single handl shower ...</td>\n",
       "      <td>delta</td>\n",
       "      <td></td>\n",
       "      <td></td>\n",
       "      <td>rain rainfal rain rainwat rain pelt rain rain ...</td>\n",
       "      <td>3</td>\n",
       "      <td>...</td>\n",
       "      <td>16</td>\n",
       "      <td>0</td>\n",
       "      <td>0</td>\n",
       "      <td>1</td>\n",
       "      <td>14</td>\n",
       "      <td>0</td>\n",
       "      <td>0</td>\n",
       "      <td>0</td>\n",
       "      <td>0</td>\n",
       "      <td>3</td>\n",
       "    </tr>\n",
       "    <tr>\n",
       "      <th>4</th>\n",
       "      <td>delta vero 1 handl shower faucet trim kit chro...</td>\n",
       "      <td>100005</td>\n",
       "      <td>2.67</td>\n",
       "      <td>shower faucet</td>\n",
       "      <td>updat bathroom delta vero single handl shower ...</td>\n",
       "      <td>delta</td>\n",
       "      <td></td>\n",
       "      <td></td>\n",
       "      <td>shower shower shower bath shower rain show sho...</td>\n",
       "      <td>2</td>\n",
       "      <td>...</td>\n",
       "      <td>19</td>\n",
       "      <td>0</td>\n",
       "      <td>0</td>\n",
       "      <td>2</td>\n",
       "      <td>15</td>\n",
       "      <td>0</td>\n",
       "      <td>0</td>\n",
       "      <td>0</td>\n",
       "      <td>0</td>\n",
       "      <td>2</td>\n",
       "    </tr>\n",
       "  </tbody>\n",
       "</table>\n",
       "<p>5 rows × 33 columns</p>\n",
       "</div>"
      ],
      "text/plain": [
       "                                       product_title product_uid relevance  \\\n",
       "0                     simpson strong ti 12 gaug angl      100001       3.0   \n",
       "1                     simpson strong ti 12 gaug angl      100001       2.5   \n",
       "2  behr premium textur deckov 1 gal  sc 141 tugbo...      100002       3.0   \n",
       "3  delta vero 1 handl shower faucet trim kit chro...      100005      2.33   \n",
       "4  delta vero 1 handl shower faucet trim kit chro...      100005      2.67   \n",
       "\n",
       "        search_term                                product_description  \\\n",
       "0      angl bracket  angl make joint stronger also provid consisten...   \n",
       "1         l bracket  angl make joint stronger also provid consisten...   \n",
       "2              deck  behr premium textur deckov innov solid color c...   \n",
       "3  rain shower head  updat bathroom delta vero single handl shower ...   \n",
       "4     shower faucet  updat bathroom delta vero single handl shower ...   \n",
       "\n",
       "                        brand color      material  \\\n",
       "0           simpson strong ti        galvan steel   \n",
       "1           simpson strong ti        galvan steel   \n",
       "2  behr premium textur deckov                       \n",
       "3                       delta                       \n",
       "4                       delta                       \n",
       "\n",
       "                                     search_term_sys  length_search_terms  \\\n",
       "0  angl slant angl angl angl lean tilt tip slant ...                    2   \n",
       "1  liter litr l cubic decimet cubic decimetr fift...                    2   \n",
       "2  deck deck pack of card deck of card deck deck ...                    1   \n",
       "3  rain rainfal rain rainwat rain pelt rain rain ...                    3   \n",
       "4  shower shower shower bath shower rain show sho...                    2   \n",
       "\n",
       "           ...            total_sys_in_prosuct_disc  \\\n",
       "0          ...                                    9   \n",
       "1          ...                                    7   \n",
       "2          ...                                   14   \n",
       "3          ...                                   16   \n",
       "4          ...                                   19   \n",
       "\n",
       "   total_search_term_in_brand  total_sys_term_in_brand  \\\n",
       "0                           0                        0   \n",
       "1                           0                        0   \n",
       "2                           1                       11   \n",
       "3                           0                        0   \n",
       "4                           0                        0   \n",
       "\n",
       "   total_search_term_product_title  total_sys_term_product_title  \\\n",
       "0                                1                             8   \n",
       "1                                1                             6   \n",
       "2                                1                            11   \n",
       "3                                1                            14   \n",
       "4                                2                            15   \n",
       "\n",
       "   total_search_term_color  total_sys_term_color  total_search_term_material  \\\n",
       "0                        0                     0                           0   \n",
       "1                        0                     0                           1   \n",
       "2                        0                     0                           0   \n",
       "3                        0                     0                           0   \n",
       "4                        0                     0                           0   \n",
       "\n",
       "   total_sys_term_material  total_search_term_sys  \n",
       "0                        0                      2  \n",
       "1                        6                      2  \n",
       "2                        0                      1  \n",
       "3                        0                      3  \n",
       "4                        0                      2  \n",
       "\n",
       "[5 rows x 33 columns]"
      ]
     },
     "execution_count": 41,
     "metadata": {},
     "output_type": "execute_result"
    }
   ],
   "source": [
    "df_process_search_term_count = process_search_term_count(eucli)\n",
    "df_process_search_term_count.head()"
   ]
  },
  {
   "cell_type": "markdown",
   "metadata": {},
   "source": [
    "### Ratio"
   ]
  },
  {
   "cell_type": "markdown",
   "metadata": {},
   "source": [
    "In this function, we will be calculating the ratio of a word to the length of a specific attribute. For example, if the word \"science\" appears 2 times in the product description, and the length of the product description is 10 words, the ratio of appearance of the word 'science will be 20%. With this order, we can conclude how important a query toward a specific feature."
   ]
  },
  {
   "cell_type": "code",
   "execution_count": 42,
   "metadata": {
    "colab": {
     "autoexec": {
      "startup": false,
      "wait_interval": 0
     }
    },
    "colab_type": "code",
    "id": "l1nPMd7mzTbO"
   },
   "outputs": [],
   "source": [
    "def ratio_query(df):\n",
    "    data = df.copy()\n",
    "    \n",
    "    #pt discription\n",
    "    data['ratio_search_term_product_disc'] = data['total_search_term_in_product_disc'] / data['length_product_description'] \n",
    "    #brand\n",
    "    data['ratio_search_term_in_brand'] = data['total_search_term_in_brand'] / data['length_brand'] \n",
    "    #title\n",
    "    data['ratio_search_term_product_title'] = data['total_search_term_product_title'] / data['length_product_title']\n",
    "    #color\n",
    "    data['ratio_search_term_color'] =  data['total_search_term_color'] / data['length_color']\n",
    "    #material\n",
    "    data['ratio_search_term_material'] = data['total_search_term_material'] / data['length_material']\n",
    "    #sys\n",
    "    data['ratio_search_term_sys'] = data['total_search_term_sys'] / data['length_sys']\n",
    "\n",
    "    data = fill_na(data)\n",
    "    return data"
   ]
  },
  {
   "cell_type": "code",
   "execution_count": 43,
   "metadata": {
    "colab": {
     "autoexec": {
      "startup": false,
      "wait_interval": 0
     },
     "base_uri": "https://localhost:8080/",
     "height": 494
    },
    "colab_type": "code",
    "executionInfo": {
     "elapsed": 313,
     "status": "ok",
     "timestamp": 1526779878250,
     "user": {
      "displayName": "SRIHA Mohamed",
      "photoUrl": "//lh5.googleusercontent.com/-XM6rLh3fxpo/AAAAAAAAAAI/AAAAAAAAAAA/W_br5yKx7q8/s50-c-k-no/photo.jpg",
      "userId": "101590173883877601113"
     },
     "user_tz": 240
    },
    "id": "6e2-bZgMzTbU",
    "outputId": "8d2832cf-c60e-4f08-b0c8-0440fe3fe8ea"
   },
   "outputs": [
    {
     "data": {
      "text/html": [
       "<div>\n",
       "<style scoped>\n",
       "    .dataframe tbody tr th:only-of-type {\n",
       "        vertical-align: middle;\n",
       "    }\n",
       "\n",
       "    .dataframe tbody tr th {\n",
       "        vertical-align: top;\n",
       "    }\n",
       "\n",
       "    .dataframe thead th {\n",
       "        text-align: right;\n",
       "    }\n",
       "</style>\n",
       "<table border=\"1\" class=\"dataframe\">\n",
       "  <thead>\n",
       "    <tr style=\"text-align: right;\">\n",
       "      <th></th>\n",
       "      <th>product_title</th>\n",
       "      <th>product_uid</th>\n",
       "      <th>relevance</th>\n",
       "      <th>search_term</th>\n",
       "      <th>product_description</th>\n",
       "      <th>brand</th>\n",
       "      <th>color</th>\n",
       "      <th>material</th>\n",
       "      <th>search_term_sys</th>\n",
       "      <th>length_search_terms</th>\n",
       "      <th>...</th>\n",
       "      <th>total_sys_term_color</th>\n",
       "      <th>total_search_term_material</th>\n",
       "      <th>total_sys_term_material</th>\n",
       "      <th>total_search_term_sys</th>\n",
       "      <th>ratio_search_term_product_disc</th>\n",
       "      <th>ratio_search_term_in_brand</th>\n",
       "      <th>ratio_search_term_product_title</th>\n",
       "      <th>ratio_search_term_color</th>\n",
       "      <th>ratio_search_term_material</th>\n",
       "      <th>ratio_search_term_sys</th>\n",
       "    </tr>\n",
       "  </thead>\n",
       "  <tbody>\n",
       "    <tr>\n",
       "      <th>0</th>\n",
       "      <td>simpson strong ti 12 gaug angl</td>\n",
       "      <td>100001</td>\n",
       "      <td>3.0</td>\n",
       "      <td>angl bracket</td>\n",
       "      <td>angl make joint stronger also provid consisten...</td>\n",
       "      <td>simpson strong ti</td>\n",
       "      <td></td>\n",
       "      <td>galvan steel</td>\n",
       "      <td>angl slant angl angl angl lean tilt tip slant ...</td>\n",
       "      <td>2</td>\n",
       "      <td>...</td>\n",
       "      <td>0</td>\n",
       "      <td>0</td>\n",
       "      <td>0</td>\n",
       "      <td>2</td>\n",
       "      <td>0.010753</td>\n",
       "      <td>0.00</td>\n",
       "      <td>0.166667</td>\n",
       "      <td>0.0</td>\n",
       "      <td>0.0</td>\n",
       "      <td>0.064516</td>\n",
       "    </tr>\n",
       "    <tr>\n",
       "      <th>1</th>\n",
       "      <td>simpson strong ti 12 gaug angl</td>\n",
       "      <td>100001</td>\n",
       "      <td>2.5</td>\n",
       "      <td>l bracket</td>\n",
       "      <td>angl make joint stronger also provid consisten...</td>\n",
       "      <td>simpson strong ti</td>\n",
       "      <td></td>\n",
       "      <td>galvan steel</td>\n",
       "      <td>liter litr l cubic decimet cubic decimetr fift...</td>\n",
       "      <td>2</td>\n",
       "      <td>...</td>\n",
       "      <td>0</td>\n",
       "      <td>1</td>\n",
       "      <td>6</td>\n",
       "      <td>2</td>\n",
       "      <td>0.010753</td>\n",
       "      <td>0.00</td>\n",
       "      <td>0.166667</td>\n",
       "      <td>0.0</td>\n",
       "      <td>0.5</td>\n",
       "      <td>0.062500</td>\n",
       "    </tr>\n",
       "    <tr>\n",
       "      <th>2</th>\n",
       "      <td>behr premium textur deckov 1 gal  sc 141 tugbo...</td>\n",
       "      <td>100002</td>\n",
       "      <td>3.0</td>\n",
       "      <td>deck</td>\n",
       "      <td>behr premium textur deckov innov solid color c...</td>\n",
       "      <td>behr premium textur deckov</td>\n",
       "      <td></td>\n",
       "      <td></td>\n",
       "      <td>deck deck pack of card deck of card deck deck ...</td>\n",
       "      <td>1</td>\n",
       "      <td>...</td>\n",
       "      <td>0</td>\n",
       "      <td>0</td>\n",
       "      <td>0</td>\n",
       "      <td>1</td>\n",
       "      <td>0.008000</td>\n",
       "      <td>0.25</td>\n",
       "      <td>0.083333</td>\n",
       "      <td>0.0</td>\n",
       "      <td>0.0</td>\n",
       "      <td>0.028571</td>\n",
       "    </tr>\n",
       "    <tr>\n",
       "      <th>3</th>\n",
       "      <td>delta vero 1 handl shower faucet trim kit chro...</td>\n",
       "      <td>100005</td>\n",
       "      <td>2.33</td>\n",
       "      <td>rain shower head</td>\n",
       "      <td>updat bathroom delta vero single handl shower ...</td>\n",
       "      <td>delta</td>\n",
       "      <td></td>\n",
       "      <td></td>\n",
       "      <td>rain rainfal rain rainwat rain pelt rain rain ...</td>\n",
       "      <td>3</td>\n",
       "      <td>...</td>\n",
       "      <td>0</td>\n",
       "      <td>0</td>\n",
       "      <td>0</td>\n",
       "      <td>3</td>\n",
       "      <td>0.014085</td>\n",
       "      <td>0.00</td>\n",
       "      <td>0.090909</td>\n",
       "      <td>0.0</td>\n",
       "      <td>0.0</td>\n",
       "      <td>0.025000</td>\n",
       "    </tr>\n",
       "    <tr>\n",
       "      <th>4</th>\n",
       "      <td>delta vero 1 handl shower faucet trim kit chro...</td>\n",
       "      <td>100005</td>\n",
       "      <td>2.67</td>\n",
       "      <td>shower faucet</td>\n",
       "      <td>updat bathroom delta vero single handl shower ...</td>\n",
       "      <td>delta</td>\n",
       "      <td></td>\n",
       "      <td></td>\n",
       "      <td>shower shower shower bath shower rain show sho...</td>\n",
       "      <td>2</td>\n",
       "      <td>...</td>\n",
       "      <td>0</td>\n",
       "      <td>0</td>\n",
       "      <td>0</td>\n",
       "      <td>2</td>\n",
       "      <td>0.028169</td>\n",
       "      <td>0.00</td>\n",
       "      <td>0.181818</td>\n",
       "      <td>0.0</td>\n",
       "      <td>0.0</td>\n",
       "      <td>0.052632</td>\n",
       "    </tr>\n",
       "  </tbody>\n",
       "</table>\n",
       "<p>5 rows × 39 columns</p>\n",
       "</div>"
      ],
      "text/plain": [
       "                                       product_title product_uid relevance  \\\n",
       "0                     simpson strong ti 12 gaug angl      100001       3.0   \n",
       "1                     simpson strong ti 12 gaug angl      100001       2.5   \n",
       "2  behr premium textur deckov 1 gal  sc 141 tugbo...      100002       3.0   \n",
       "3  delta vero 1 handl shower faucet trim kit chro...      100005      2.33   \n",
       "4  delta vero 1 handl shower faucet trim kit chro...      100005      2.67   \n",
       "\n",
       "        search_term                                product_description  \\\n",
       "0      angl bracket  angl make joint stronger also provid consisten...   \n",
       "1         l bracket  angl make joint stronger also provid consisten...   \n",
       "2              deck  behr premium textur deckov innov solid color c...   \n",
       "3  rain shower head  updat bathroom delta vero single handl shower ...   \n",
       "4     shower faucet  updat bathroom delta vero single handl shower ...   \n",
       "\n",
       "                        brand color      material  \\\n",
       "0           simpson strong ti        galvan steel   \n",
       "1           simpson strong ti        galvan steel   \n",
       "2  behr premium textur deckov                       \n",
       "3                       delta                       \n",
       "4                       delta                       \n",
       "\n",
       "                                     search_term_sys  length_search_terms  \\\n",
       "0  angl slant angl angl angl lean tilt tip slant ...                    2   \n",
       "1  liter litr l cubic decimet cubic decimetr fift...                    2   \n",
       "2  deck deck pack of card deck of card deck deck ...                    1   \n",
       "3  rain rainfal rain rainwat rain pelt rain rain ...                    3   \n",
       "4  shower shower shower bath shower rain show sho...                    2   \n",
       "\n",
       "           ...            total_sys_term_color  total_search_term_material  \\\n",
       "0          ...                               0                           0   \n",
       "1          ...                               0                           1   \n",
       "2          ...                               0                           0   \n",
       "3          ...                               0                           0   \n",
       "4          ...                               0                           0   \n",
       "\n",
       "   total_sys_term_material  total_search_term_sys  \\\n",
       "0                        0                      2   \n",
       "1                        6                      2   \n",
       "2                        0                      1   \n",
       "3                        0                      3   \n",
       "4                        0                      2   \n",
       "\n",
       "   ratio_search_term_product_disc  ratio_search_term_in_brand  \\\n",
       "0                        0.010753                        0.00   \n",
       "1                        0.010753                        0.00   \n",
       "2                        0.008000                        0.25   \n",
       "3                        0.014085                        0.00   \n",
       "4                        0.028169                        0.00   \n",
       "\n",
       "   ratio_search_term_product_title  ratio_search_term_color  \\\n",
       "0                         0.166667                      0.0   \n",
       "1                         0.166667                      0.0   \n",
       "2                         0.083333                      0.0   \n",
       "3                         0.090909                      0.0   \n",
       "4                         0.181818                      0.0   \n",
       "\n",
       "   ratio_search_term_material  ratio_search_term_sys  \n",
       "0                         0.0               0.064516  \n",
       "1                         0.5               0.062500  \n",
       "2                         0.0               0.028571  \n",
       "3                         0.0               0.025000  \n",
       "4                         0.0               0.052632  \n",
       "\n",
       "[5 rows x 39 columns]"
      ]
     },
     "execution_count": 43,
     "metadata": {},
     "output_type": "execute_result"
    }
   ],
   "source": [
    "ratio = ratio_query(df_process_search_term_count)\n",
    "ratio.head()"
   ]
  },
  {
   "cell_type": "markdown",
   "metadata": {},
   "source": [
    "## Estimators"
   ]
  },
  {
   "cell_type": "markdown",
   "metadata": {
    "colab_type": "text",
    "id": "PFgfWQ52oHC9"
   },
   "source": [
    "### The models"
   ]
  },
  {
   "cell_type": "markdown",
   "metadata": {},
   "source": [
    "Now that we are done creating the featues, the next step is to dump the overall work into our models:\n",
    "    \n",
    "    - Linear Regression\n",
    "    - Random Forest\n",
    "    - Gradient Boosting Regressor\n",
    "    - XGBoost\n",
    "    - Kears Regressor (Neural network)\n",
    "\n",
    "\n",
    "For performance reasons, we will be tunning the Random Forest and Gradient Boosting Regresson models using the Grid Search and Cross Validation selection. For XGBoost we will be applying a basic tunning using Randomized Search.\n"
   ]
  },
  {
   "cell_type": "markdown",
   "metadata": {},
   "source": [
    "But first, we need to seperate the train from the test data."
   ]
  },
  {
   "cell_type": "markdown",
   "metadata": {},
   "source": [
    "Training Set"
   ]
  },
  {
   "cell_type": "code",
   "execution_count": 44,
   "metadata": {
    "colab": {
     "autoexec": {
      "startup": false,
      "wait_interval": 0
     }
    },
    "colab_type": "code",
    "id": "JuGDEHyqoHC-"
   },
   "outputs": [],
   "source": [
    "#Split data between attributes and target\n",
    "train = ratio.loc[ratio['relevance'] != '0.0']\n",
    "X = train.drop(['product_uid','product_title','search_term','relevance','brand','product_description'\n",
    "                 ,'color','material','search_term_sys'],axis=1)\n",
    "#target or labels\n",
    "y = train['relevance']"
   ]
  },
  {
   "cell_type": "markdown",
   "metadata": {},
   "source": [
    "Testing Set"
   ]
  },
  {
   "cell_type": "code",
   "execution_count": 45,
   "metadata": {},
   "outputs": [],
   "source": [
    "test = ratio.loc[ratio['relevance'] == '0.0']\n",
    "X_t = test.drop(['product_uid','product_title','search_term','relevance','brand','product_description'\n",
    "                 ,'color','material','search_term_sys'],axis=1)"
   ]
  },
  {
   "cell_type": "markdown",
   "metadata": {},
   "source": [
    "Length of the training set."
   ]
  },
  {
   "cell_type": "code",
   "execution_count": 46,
   "metadata": {},
   "outputs": [
    {
     "data": {
      "text/plain": [
       "74067"
      ]
     },
     "execution_count": 46,
     "metadata": {},
     "output_type": "execute_result"
    }
   ],
   "source": [
    "len(X)"
   ]
  },
  {
   "cell_type": "markdown",
   "metadata": {},
   "source": [
    "Length of the test set."
   ]
  },
  {
   "cell_type": "code",
   "execution_count": 47,
   "metadata": {},
   "outputs": [
    {
     "data": {
      "text/plain": [
       "166693"
      ]
     },
     "execution_count": 47,
     "metadata": {},
     "output_type": "execute_result"
    }
   ],
   "source": [
    "len(X_t)"
   ]
  },
  {
   "cell_type": "markdown",
   "metadata": {},
   "source": [
    "Total number of features."
   ]
  },
  {
   "cell_type": "code",
   "execution_count": 94,
   "metadata": {},
   "outputs": [
    {
     "data": {
      "text/plain": [
       "30"
      ]
     },
     "execution_count": 94,
     "metadata": {},
     "output_type": "execute_result"
    }
   ],
   "source": [
    "len(X.columns)"
   ]
  },
  {
   "cell_type": "markdown",
   "metadata": {
    "colab_type": "text",
    "id": "EeE7CE5coHDC"
   },
   "source": [
    "#### Split into test and train for model evaluation"
   ]
  },
  {
   "cell_type": "markdown",
   "metadata": {},
   "source": [
    "As we did in the 1st iteration, the splitting is occuring only within the training set, we kept the real test set for prediction and Kaggle submision."
   ]
  },
  {
   "cell_type": "code",
   "execution_count": 48,
   "metadata": {
    "colab": {
     "autoexec": {
      "startup": false,
      "wait_interval": 0
     }
    },
    "colab_type": "code",
    "id": "6wpAe-V9oHDD"
   },
   "outputs": [],
   "source": [
    "X_train, X_test, y_train, y_test = train_test_split(X, y, test_size=0.33, random_state=42)"
   ]
  },
  {
   "cell_type": "markdown",
   "metadata": {
    "colab_type": "text",
    "id": "xlz3jBL7RPhD"
   },
   "source": [
    "####  Import necessary libraries for data visualisation"
   ]
  },
  {
   "cell_type": "code",
   "execution_count": 49,
   "metadata": {
    "colab": {
     "autoexec": {
      "startup": false,
      "wait_interval": 0
     }
    },
    "colab_type": "code",
    "id": "8gEyQjcjRPhE"
   },
   "outputs": [],
   "source": [
    "import matplotlib.pylab as plt\n",
    "%matplotlib inline\n",
    "from matplotlib.pylab import rcParams\n",
    "rcParams['figure.figsize'] = 12, 4"
   ]
  },
  {
   "cell_type": "markdown",
   "metadata": {
    "colab_type": "text",
    "id": "nVdL6JMPRPhI"
   },
   "source": [
    "#### Define the fitting model"
   ]
  },
  {
   "cell_type": "markdown",
   "metadata": {
    "colab_type": "text",
    "id": "UdIKBes9RPhI"
   },
   "source": [
    "`modelfil()` trains any linear model passed as an argument and displays the RMSE, Coefficient of determination as well as a bar plot of the most important features. Again, all the work is happening within the training set."
   ]
  },
  {
   "cell_type": "code",
   "execution_count": 50,
   "metadata": {
    "colab": {
     "autoexec": {
      "startup": false,
      "wait_interval": 0
     }
    },
    "colab_type": "code",
    "id": "gcGFazSBRPhK"
   },
   "outputs": [],
   "source": [
    "def modelfit(alg, target, predictors,y_test_pred,X_test_pred, plot=True):\n",
    "    #Fit the algorithm on the data\n",
    "    alg.fit(predictors, target)\n",
    "        \n",
    "    #Predict training set:\n",
    "    dtrain_predictions = alg.predict(X_test_pred)\n",
    "    #Perform RMSE:\n",
    "    rmse = np.sqrt(mean_squared_error(y_test_pred, dtrain_predictions))\n",
    "    \n",
    "    #Print model report:\n",
    "    print (\"\\nModel Report\")\n",
    "    print (\"RMSE : %.4g\" % rmse)\n",
    "    print(\"Coefficient of determination R^2 of the prediction(Score): %.4g\" % alg.score(predictors,target))\n",
    "    print('---------------------------')\n",
    "#     Print Feature Importance:\n",
    "    if plot == True:\n",
    "        feat_imp = pd.Series(alg.feature_importances_, predictors.columns).sort_values(ascending=False)\n",
    "        feat_imp.plot(kind='bar', title='Feature Importances')\n",
    "        plt.ylabel('Feature Importance Score')"
   ]
  },
  {
   "cell_type": "markdown",
   "metadata": {
    "colab_type": "text",
    "id": "ORQNEivJRPhN"
   },
   "source": [
    "### Linear Regression"
   ]
  },
  {
   "cell_type": "markdown",
   "metadata": {
    "colab_type": "text",
    "id": "thBRW2u6oHDJ"
   },
   "source": [
    "### Define the model"
   ]
  },
  {
   "cell_type": "code",
   "execution_count": 51,
   "metadata": {
    "colab": {
     "autoexec": {
      "startup": false,
      "wait_interval": 0
     }
    },
    "colab_type": "code",
    "id": "CHiKF90QoHDK"
   },
   "outputs": [],
   "source": [
    "from sklearn.linear_model import LinearRegression\n",
    "lr = LinearRegression()"
   ]
  },
  {
   "cell_type": "markdown",
   "metadata": {
    "colab_type": "text",
    "id": "Cssgf-fIoHDM"
   },
   "source": [
    "### Train the pipeline on training data"
   ]
  },
  {
   "cell_type": "code",
   "execution_count": 52,
   "metadata": {
    "colab": {
     "autoexec": {
      "startup": false,
      "wait_interval": 0
     },
     "base_uri": "https://localhost:8080/",
     "height": 104
    },
    "colab_type": "code",
    "executionInfo": {
     "elapsed": 626,
     "status": "ok",
     "timestamp": 1526779977489,
     "user": {
      "displayName": "SRIHA Mohamed",
      "photoUrl": "//lh5.googleusercontent.com/-XM6rLh3fxpo/AAAAAAAAAAI/AAAAAAAAAAA/W_br5yKx7q8/s50-c-k-no/photo.jpg",
      "userId": "101590173883877601113"
     },
     "user_tz": 240
    },
    "id": "u7dbIf78RPhT",
    "outputId": "1158edb9-3620-430f-f3d5-2bee2c070354"
   },
   "outputs": [
    {
     "name": "stdout",
     "output_type": "stream",
     "text": [
      "\n",
      "Model Report\n",
      "RMSE : 0.4866\n",
      "Coefficient of determination R^2 of the prediction(Score): 0.1742\n",
      "---------------------------\n"
     ]
    }
   ],
   "source": [
    "modelfit(lr,y_train,X_train,y_test,X_test,plot=False)"
   ]
  },
  {
   "cell_type": "markdown",
   "metadata": {
    "colab_type": "text",
    "id": "y5K8lLnSRPhY"
   },
   "source": [
    "On the training set and with the new features, the LinearRegreesion model outputs a slightly better RMSE than in the 1st iteration. The next step is to upload the predicted labels from the test set to Kaggle, and examine if the same RMSE will hold the same, or some over-fitting has been generated. Note that the prediction will be the relevance of the queries which are hidden to us.\n",
    "\n",
    "> Also, 0.1736 score means that our data is not linear enough. The best possible score is 1.0 and it can be negative because the model can be arbitrarily worse. A constant model that always predicts the expected value of relevance, disregarding the input features, would get a R^2 score of 0.0."
   ]
  },
  {
   "cell_type": "markdown",
   "metadata": {
    "colab_type": "text",
    "id": "mjE2mJ38oHDZ"
   },
   "source": [
    "### Make Estimation on real test data (Hidden labels)"
   ]
  },
  {
   "cell_type": "markdown",
   "metadata": {
    "colab_type": "text",
    "id": "odIvf8jdRPhd"
   },
   "source": [
    "Save the predicted labels into a CSV file for Kaggel submission."
   ]
  },
  {
   "cell_type": "code",
   "execution_count": 53,
   "metadata": {
    "colab": {
     "autoexec": {
      "startup": false,
      "wait_interval": 0
     }
    },
    "colab_type": "code",
    "id": "FbMAX7phoHDc"
   },
   "outputs": [
    {
     "data": {
      "text/plain": [
       "array([1.95231933, 1.88534441, 2.09321388, ..., 2.5084462 , 2.56356078,\n",
       "       2.69765087])"
      ]
     },
     "execution_count": 53,
     "metadata": {},
     "output_type": "execute_result"
    }
   ],
   "source": [
    "#Predicted labels\n",
    "submission_lr = np.round_(lr.predict(X_t),decimals=2)\n",
    "np.savetxt(\"submission_lr123.csv\",submission_lr, delimiter=\",\")\n",
    "# A sample of the predicted labels.\n",
    "lr.predict(X_t)"
   ]
  },
  {
   "cell_type": "markdown",
   "metadata": {},
   "source": [
    "## 2nd submission on kaggle"
   ]
  },
  {
   "cell_type": "markdown",
   "metadata": {},
   "source": [
    "<img src='Capture123.jpg'></img>"
   ]
  },
  {
   "cell_type": "markdown",
   "metadata": {},
   "source": [
    "As you can see, the second iteration gave a slightly better RMSE than the first iteration on the same model. We jumped from 0.53 to 0.48.\n",
    "\n",
    "Now let's try other models and see how they will perform, and which features are performing better than the others."
   ]
  },
  {
   "cell_type": "markdown",
   "metadata": {
    "colab_type": "text",
    "id": "24XiBDGuRPhm"
   },
   "source": [
    "# More Models"
   ]
  },
  {
   "cell_type": "markdown",
   "metadata": {
    "colab_type": "text",
    "id": "fL7onmzt1aw-"
   },
   "source": [
    "### Random Forest"
   ]
  },
  {
   "cell_type": "markdown",
   "metadata": {
    "colab_type": "text",
    "id": "Zvbzk8BlRPhq"
   },
   "source": [
    "Luckly, the Random Forests and the Gradient Boosting Regressor do have various parameters that can be tunned for better prediction, such as `n_estimators`, `max_depth` and so on. This tunning method is called hyperparameterization. We will see later in this Notebook how we apply it. But first,\n",
    "\n",
    "We will import the RandomForest model from the Sckit-learn models library. But why are we choosing Random Forests?\n",
    "\n",
    "According to Wiki:\n",
    "\n",
    "> _Random forests are an ensemble learning method for classification, regression, and other tasks, that operate by constructing a multitude of decision trees at training time and outputting the class that is the mode of the classes (classification) or mean prediction (regression) of the individual trees._\n",
    "\n",
    "However, in Random Forests, overfitting is generally caused by overgrowing the trees, therefore we need to make sure that the tree is pruned at the right level to avoid such problem."
   ]
  },
  {
   "cell_type": "markdown",
   "metadata": {},
   "source": [
    "### Define the model"
   ]
  },
  {
   "cell_type": "code",
   "execution_count": 54,
   "metadata": {
    "colab": {
     "autoexec": {
      "startup": false,
      "wait_interval": 0
     }
    },
    "colab_type": "code",
    "id": "6GY_TabxRPhp"
   },
   "outputs": [],
   "source": [
    "from sklearn.ensemble import RandomForestRegressor\n",
    "regr = RandomForestRegressor()"
   ]
  },
  {
   "cell_type": "markdown",
   "metadata": {},
   "source": [
    "### Train the pipeline on training data"
   ]
  },
  {
   "cell_type": "code",
   "execution_count": 55,
   "metadata": {
    "colab": {
     "autoexec": {
      "startup": false,
      "wait_interval": 0
     },
     "base_uri": "https://localhost:8080/",
     "height": 513
    },
    "colab_type": "code",
    "executionInfo": {
     "elapsed": 4869,
     "status": "ok",
     "timestamp": 1526779992050,
     "user": {
      "displayName": "SRIHA Mohamed",
      "photoUrl": "//lh5.googleusercontent.com/-XM6rLh3fxpo/AAAAAAAAAAI/AAAAAAAAAAA/W_br5yKx7q8/s50-c-k-no/photo.jpg",
      "userId": "101590173883877601113"
     },
     "user_tz": 240
    },
    "id": "EhW1X2j1RPhq",
    "outputId": "44a24fdd-38ec-4a8f-a310-9d155dc35a3e"
   },
   "outputs": [
    {
     "name": "stdout",
     "output_type": "stream",
     "text": [
      "\n",
      "Model Report\n",
      "RMSE : 0.4966\n",
      "Coefficient of determination R^2 of the prediction(Score): 0.8362\n",
      "---------------------------\n"
     ]
    },
    {
     "data": {
      "image/png": "[encoded data removed]",
      "text/plain": [
       "<matplotlib.figure.Figure at 0x1bb79933e80>"
      ]
     },
     "metadata": {},
     "output_type": "display_data"
    }
   ],
   "source": [
    "modelfit(regr, y_train, X_train,y_test,X_test)"
   ]
  },
  {
   "cell_type": "markdown",
   "metadata": {},
   "source": [
    "We can conclude that the result of the Random Forest is worst than the Linear Regression, and the `cos_pt_title` feature (Cosine Similarity on the product title) tends to have the highest score among all the features that we have created. In short, `cos_pt_title` is the most linear feature in our data even though the feature importance score is still low."
   ]
  },
  {
   "cell_type": "markdown",
   "metadata": {},
   "source": [
    "The second step and the most important step is tunning our model using the Grid Search Optimizer. However, the Grid Search by itself is not enough, why? Because the Grid search means that you have a set of models which differ from each other in their parameter values, which lie on a grid. What you do is you train each of the models and evaluate it using cross-validation. You then select the parameter that performed best. Again, we need to be careful while growing the tree using the `max_depth`."
   ]
  },
  {
   "cell_type": "markdown",
   "metadata": {},
   "source": [
    "### Hyperparameter using the Grid Search"
   ]
  },
  {
   "cell_type": "markdown",
   "metadata": {},
   "source": [
    "Hyperparameter tuning relies more on experimental results than theory, and thus the best method to determine the optimal settings is to try many different combinations evaluate the performance of each model. However, evaluating each model only on the training set can lead to one of the most fundamental problems in machine learning: overfitting."
   ]
  },
  {
   "cell_type": "markdown",
   "metadata": {
    "colab_type": "text",
    "id": "0CIXVFQRRPhu"
   },
   "source": [
    "### Grid Search"
   ]
  },
  {
   "cell_type": "markdown",
   "metadata": {
    "colab_type": "text",
    "id": "d0jSVNTJRPhu"
   },
   "source": [
    "First paramter will be the number of estimators or `n_estimators`. What we will do is setting a list of potential estimators in the parameter grid using. We will try all of numbers in the list and output the number that perform the best using the `model_fit()` function. We will set the cross-validation with 5 folds. "
   ]
  },
  {
   "cell_type": "code",
   "execution_count": 56,
   "metadata": {
    "colab": {
     "autoexec": {
      "startup": false,
      "wait_interval": 0
     }
    },
    "colab_type": "code",
    "id": "iW5Rxv73RPhw"
   },
   "outputs": [
    {
     "data": {
      "text/plain": [
       "GridSearchCV(cv=5, error_score='raise',\n",
       "       estimator=RandomForestRegressor(bootstrap=True, criterion='mse', max_depth=None,\n",
       "           max_features='auto', max_leaf_nodes=None,\n",
       "           min_impurity_decrease=0.0, min_impurity_split=None,\n",
       "           min_samples_leaf=1, min_samples_split=2,\n",
       "           min_weight_fraction_leaf=0.0, n_estimators=10, n_jobs=1,\n",
       "           oob_score=False, random_state=None, verbose=0, warm_start=False),\n",
       "       fit_params={}, iid=True, n_jobs=-1,\n",
       "       param_grid={'n_estimators': [100, 300, 500]},\n",
       "       pre_dispatch='2*n_jobs', refit=True, scoring=None, verbose=0)"
      ]
     },
     "execution_count": 56,
     "metadata": {},
     "output_type": "execute_result"
    }
   ],
   "source": [
    "param_test = {'n_estimators':[100,300,500]}\n",
    "rf1 = GridSearchCV(estimator = RandomForestRegressor(), param_grid=param_test,n_jobs=-1,verbose=0, cv=5)\n",
    "rf1.fit(X_train,y_train)"
   ]
  },
  {
   "cell_type": "code",
   "execution_count": 57,
   "metadata": {},
   "outputs": [
    {
     "name": "stdout",
     "output_type": "stream",
     "text": [
      "\n",
      "Model Report\n",
      "RMSE : 0.4738\n",
      "Coefficient of determination R^2 of the prediction(Score): 0.8801\n",
      "---------------------------\n"
     ]
    },
    {
     "data": {
      "image/png": "[encoded data removed]",
      "text/plain": [
       "<matplotlib.figure.Figure at 0x1bb79a40c88>"
      ]
     },
     "metadata": {},
     "output_type": "display_data"
    }
   ],
   "source": [
    "modelfit(rf1.best_estimator_, y_train,X_train,y_test,X_test)"
   ]
  },
  {
   "cell_type": "markdown",
   "metadata": {},
   "source": [
    "Above is the result of the first hyperparameterization on the `n_estimator` parameter. We lowered the RMSE by 0.0276, which is a good jump. Now let's look at the number of estimators which the Grid Search thinks performs the best so far."
   ]
  },
  {
   "cell_type": "code",
   "execution_count": 58,
   "metadata": {},
   "outputs": [
    {
     "data": {
      "text/plain": [
       "{'n_estimators': 500}"
      ]
     },
     "execution_count": 58,
     "metadata": {},
     "output_type": "execute_result"
    }
   ],
   "source": [
    "rf1.best_params_"
   ]
  },
  {
   "cell_type": "markdown",
   "metadata": {},
   "source": [
    "Our optimization says that `n_estimators` equal 500 will perform a low RMSE. So we will take the number 500 and assign it to its parameter in the bellow function."
   ]
  },
  {
   "cell_type": "markdown",
   "metadata": {},
   "source": [
    "The second step is to train the model on the `max_depth` parameter as we did with the `n_estimator` paramter."
   ]
  },
  {
   "cell_type": "code",
   "execution_count": 59,
   "metadata": {},
   "outputs": [
    {
     "data": {
      "text/plain": [
       "GridSearchCV(cv=5, error_score='raise',\n",
       "       estimator=RandomForestRegressor(bootstrap=True, criterion='mse', max_depth=None,\n",
       "           max_features='auto', max_leaf_nodes=None,\n",
       "           min_impurity_decrease=0.0, min_impurity_split=None,\n",
       "           min_samples_leaf=1, min_samples_split=2,\n",
       "           min_weight_fraction_leaf=0.0, n_estimators=500, n_jobs=1,\n",
       "           oob_score=False, random_state=None, verbose=0, warm_start=False),\n",
       "       fit_params={}, iid=True, n_jobs=-1,\n",
       "       param_grid={'max_depth': [1, 5, 8, 10, 15, 20, 25, 30]},\n",
       "       pre_dispatch='2*n_jobs', refit=True, scoring=None, verbose=0)"
      ]
     },
     "execution_count": 59,
     "metadata": {},
     "output_type": "execute_result"
    }
   ],
   "source": [
    "param_test1 = {'max_depth':[1, 5, 8,10, 15, 20, 25, 30]}\n",
    "rf2 = GridSearchCV(estimator = RandomForestRegressor(n_estimators= 500), param_grid=param_test1,n_jobs=-1,verbose=0, cv=5)\n",
    "rf2.fit(X_train,y_train)"
   ]
  },
  {
   "cell_type": "code",
   "execution_count": 60,
   "metadata": {},
   "outputs": [
    {
     "name": "stdout",
     "output_type": "stream",
     "text": [
      "\n",
      "Model Report\n",
      "RMSE : 0.4694\n",
      "Coefficient of determination R^2 of the prediction(Score): 0.5561\n",
      "---------------------------\n"
     ]
    },
    {
     "data": {
      "image/png": "[encoded data removed]",
      "text/plain": [
       "<matplotlib.figure.Figure at 0x1bb79a40f60>"
      ]
     },
     "metadata": {},
     "output_type": "display_data"
    }
   ],
   "source": [
    "modelfit(rf2.best_estimator_, y_train,X_train,y_test,X_test)"
   ]
  },
  {
   "cell_type": "code",
   "execution_count": 61,
   "metadata": {},
   "outputs": [
    {
     "data": {
      "text/plain": [
       "{'max_depth': 15}"
      ]
     },
     "execution_count": 61,
     "metadata": {},
     "output_type": "execute_result"
    }
   ],
   "source": [
    "rf2.best_params_"
   ]
  },
  {
   "cell_type": "markdown",
   "metadata": {},
   "source": [
    "Same thing with `min_samples_leaf` parameter."
   ]
  },
  {
   "cell_type": "code",
   "execution_count": 62,
   "metadata": {},
   "outputs": [
    {
     "data": {
      "text/plain": [
       "GridSearchCV(cv=5, error_score='raise',\n",
       "       estimator=RandomForestRegressor(bootstrap=True, criterion='mse', max_depth=15,\n",
       "           max_features='auto', max_leaf_nodes=None,\n",
       "           min_impurity_decrease=0.0, min_impurity_split=None,\n",
       "           min_samples_leaf=1, min_samples_split=2,\n",
       "           min_weight_fraction_leaf=0.0, n_estimators=500, n_jobs=1,\n",
       "           oob_score=False, random_state=None, verbose=0, warm_start=False),\n",
       "       fit_params={}, iid=True, n_jobs=-1,\n",
       "       param_grid={'min_samples_leaf': [1, 2, 4, 6, 8, 10]},\n",
       "       pre_dispatch='2*n_jobs', refit=True, scoring=None, verbose=0)"
      ]
     },
     "execution_count": 62,
     "metadata": {},
     "output_type": "execute_result"
    }
   ],
   "source": [
    "param_test2 = {\"min_samples_leaf\" : [1, 2, 4, 6, 8, 10]}\n",
    "rf3 = GridSearchCV(estimator = RandomForestRegressor(n_estimators= 500,max_depth=15), param_grid=param_test2,n_jobs=-1,verbose=0, cv=5)\n",
    "rf3.fit(X_train,y_train)"
   ]
  },
  {
   "cell_type": "code",
   "execution_count": 63,
   "metadata": {},
   "outputs": [
    {
     "name": "stdout",
     "output_type": "stream",
     "text": [
      "\n",
      "Model Report\n",
      "RMSE : 0.4692\n",
      "Coefficient of determination R^2 of the prediction(Score): 0.5015\n",
      "---------------------------\n"
     ]
    },
    {
     "data": {
      "image/png": "[encoded data removed]",
      "text/plain": [
       "<matplotlib.figure.Figure at 0x1bb799a1cc0>"
      ]
     },
     "metadata": {},
     "output_type": "display_data"
    }
   ],
   "source": [
    "modelfit(rf3.best_estimator_, y_train,X_train,y_test,X_test)"
   ]
  },
  {
   "cell_type": "markdown",
   "metadata": {},
   "source": [
    "Our new RMSE on the training set is 0.4693. Now, let's figure out how the training will perform on the hidden labels with a third submission on Kaggle."
   ]
  },
  {
   "cell_type": "markdown",
   "metadata": {},
   "source": [
    "### Make Estimation on real test data (Hidden labels)"
   ]
  },
  {
   "cell_type": "markdown",
   "metadata": {
    "colab_type": "text",
    "id": "1FCZST_W5EfT"
   },
   "source": [
    "Save the predicted labels into a file for Kaggel submission"
   ]
  },
  {
   "cell_type": "code",
   "execution_count": 66,
   "metadata": {
    "colab": {
     "autoexec": {
      "startup": false,
      "wait_interval": 0
     }
    },
    "colab_type": "code",
    "id": "lFEXUa_wRPiV"
   },
   "outputs": [
    {
     "data": {
      "text/plain": [
       "array([1.99873354, 2.00628756, 2.07276957, ..., 2.50035634, 2.72187394,\n",
       "       2.58277988])"
      ]
     },
     "execution_count": 66,
     "metadata": {},
     "output_type": "execute_result"
    }
   ],
   "source": [
    "#Predicted labels\n",
    "submission_lr = np.round_(rf3.predict(X_t),decimals=2)\n",
    "np.savetxt(\"submission_lr124.csv\",submission_lr, delimiter=\",\")\n",
    "# A sample of the predicted labels.\n",
    "rf3.predict(X_t)"
   ]
  },
  {
   "cell_type": "markdown",
   "metadata": {},
   "source": [
    "### 3rd Submission on Kaggle."
   ]
  },
  {
   "cell_type": "markdown",
   "metadata": {},
   "source": [
    "<img src='Capture124.jpg'></img>"
   ]
  },
  {
   "cell_type": "markdown",
   "metadata": {},
   "source": [
    "As it was expected, the Random Forests model tends to overfit. RMSE on the training set is 0.46 and 0.48 on the test set.\n",
    "\n",
    "Let's try another model."
   ]
  },
  {
   "cell_type": "markdown",
   "metadata": {
    "colab_type": "text",
    "id": "hs91QRCT6j1n"
   },
   "source": [
    "### Gradient Boosting Regressor"
   ]
  },
  {
   "cell_type": "markdown",
   "metadata": {},
   "source": [
    "Gradient boosting is a machine learning technique for regression and classification problems, which produces a prediction model in the form of an ensemble of weak prediction models, typically decision trees. It builds the model in a stage-wise fashion like other boosting methods do, and it generalizes them by allowing optimization of an arbitrary differentiable loss function."
   ]
  },
  {
   "cell_type": "markdown",
   "metadata": {},
   "source": [
    "### Define the model"
   ]
  },
  {
   "cell_type": "code",
   "execution_count": 67,
   "metadata": {
    "colab": {
     "autoexec": {
      "startup": false,
      "wait_interval": 0
     },
     "base_uri": "https://localhost:8080/",
     "height": 139
    },
    "colab_type": "code",
    "executionInfo": {
     "elapsed": 5838,
     "status": "ok",
     "timestamp": 1526760908680,
     "user": {
      "displayName": "SRIHA Mohamed",
      "photoUrl": "//lh5.googleusercontent.com/-XM6rLh3fxpo/AAAAAAAAAAI/AAAAAAAAAAA/W_br5yKx7q8/s50-c-k-no/photo.jpg",
      "userId": "101590173883877601113"
     },
     "user_tz": 240
    },
    "id": "sSP_aMA76m68",
    "outputId": "d6d38d39-4003-42c2-fce1-7a42c5bba3a8"
   },
   "outputs": [
    {
     "data": {
      "text/plain": [
       "GradientBoostingRegressor(alpha=0.9, criterion='friedman_mse', init=None,\n",
       "             learning_rate=0.1, loss='ls', max_depth=3, max_features=None,\n",
       "             max_leaf_nodes=None, min_impurity_decrease=0.0,\n",
       "             min_impurity_split=None, min_samples_leaf=1,\n",
       "             min_samples_split=2, min_weight_fraction_leaf=0.0,\n",
       "             n_estimators=100, presort='auto', random_state=None,\n",
       "             subsample=1.0, verbose=0, warm_start=False)"
      ]
     },
     "execution_count": 67,
     "metadata": {},
     "output_type": "execute_result"
    }
   ],
   "source": [
    "from sklearn.ensemble import GradientBoostingRegressor\n",
    "gbr = GradientBoostingRegressor()\n",
    "gbr.fit(X_train,y_train)"
   ]
  },
  {
   "cell_type": "markdown",
   "metadata": {
    "colab_type": "text",
    "id": "tgNbHGAQ65oF"
   },
   "source": [
    "### Train the pipeline on training data"
   ]
  },
  {
   "cell_type": "code",
   "execution_count": 68,
   "metadata": {
    "colab": {
     "autoexec": {
      "startup": false,
      "wait_interval": 0
     },
     "base_uri": "https://localhost:8080/",
     "height": 513
    },
    "colab_type": "code",
    "executionInfo": {
     "elapsed": 6606,
     "status": "ok",
     "timestamp": 1526760915421,
     "user": {
      "displayName": "SRIHA Mohamed",
      "photoUrl": "//lh5.googleusercontent.com/-XM6rLh3fxpo/AAAAAAAAAAI/AAAAAAAAAAA/W_br5yKx7q8/s50-c-k-no/photo.jpg",
      "userId": "101590173883877601113"
     },
     "user_tz": 240
    },
    "id": "RIDkfNAp6zhD",
    "outputId": "f86ef316-fa5e-45b7-c49d-6cce3ed5063e"
   },
   "outputs": [
    {
     "name": "stdout",
     "output_type": "stream",
     "text": [
      "\n",
      "Model Report\n",
      "RMSE : 0.477\n",
      "Coefficient of determination R^2 of the prediction(Score): 0.2134\n",
      "---------------------------\n"
     ]
    },
    {
     "data": {
      "image/png": "[encoded data removed]",
      "text/plain": [
       "<matplotlib.figure.Figure at 0x1bb02460390>"
      ]
     },
     "metadata": {},
     "output_type": "display_data"
    }
   ],
   "source": [
    "modelfit(gbr,y_train,X_train,y_test,X_test)"
   ]
  },
  {
   "cell_type": "markdown",
   "metadata": {
    "colab_type": "text",
    "id": "YANJQ98c7IRZ"
   },
   "source": [
    "**Grid Search**"
   ]
  },
  {
   "cell_type": "markdown",
   "metadata": {
    "colab_type": "text",
    "id": "34O9-7Z_B6a8"
   },
   "source": [
    "Tunning the `Gradient Boosting Regressor` model using *Grid Search*.\n",
    "\n",
    "Same work as we did with the Random Forest Hyperparametrization, we will do the same with the Gradient Booster."
   ]
  },
  {
   "cell_type": "code",
   "execution_count": 69,
   "metadata": {
    "colab": {
     "autoexec": {
      "startup": false,
      "wait_interval": 0
     },
     "base_uri": "https://localhost:8080/",
     "height": 208
    },
    "colab_type": "code",
    "executionInfo": {
     "elapsed": 370581,
     "status": "ok",
     "timestamp": 1526761286085,
     "user": {
      "displayName": "SRIHA Mohamed",
      "photoUrl": "//lh5.googleusercontent.com/-XM6rLh3fxpo/AAAAAAAAAAI/AAAAAAAAAAA/W_br5yKx7q8/s50-c-k-no/photo.jpg",
      "userId": "101590173883877601113"
     },
     "user_tz": 240
    },
    "id": "9Z52VMx47KL6",
    "outputId": "c1fd63a6-45f1-4f39-e74c-cb237509bb79"
   },
   "outputs": [
    {
     "data": {
      "text/plain": [
       "GridSearchCV(cv=5, error_score='raise',\n",
       "       estimator=GradientBoostingRegressor(alpha=0.9, criterion='friedman_mse', init=None,\n",
       "             learning_rate=0.1, loss='ls', max_depth=3, max_features=None,\n",
       "             max_leaf_nodes=None, min_impurity_decrease=0.0,\n",
       "             min_impurity_split=None, min_samples_leaf=1,\n",
       "             min_samples_split=2, min_weight_fraction_leaf=0.0,\n",
       "             n_estimators=100, presort='auto', random_state=None,\n",
       "             subsample=1.0, verbose=0, warm_start=False),\n",
       "       fit_params={}, iid=True, n_jobs=-1,\n",
       "       param_grid={'n_estimators': [100, 300, 500]},\n",
       "       pre_dispatch='2*n_jobs', refit=True, scoring=None, verbose=0)"
      ]
     },
     "execution_count": 69,
     "metadata": {},
     "output_type": "execute_result"
    }
   ],
   "source": [
    "param_booster_test1 = {'n_estimators':[100,300,500]}\n",
    "gbr1 = GridSearchCV(estimator = GradientBoostingRegressor(learning_rate=0.1), param_grid = param_booster_test1,n_jobs=-1,verbose=0, cv=5)\n",
    "gbr1.fit(X_train,y_train)"
   ]
  },
  {
   "cell_type": "markdown",
   "metadata": {
    "colab_type": "text",
    "id": "hKsrsIqm_MEY"
   },
   "source": [
    "Displaying the grid score best parameters and best score after executing the grid search on `n_estimator` parameter"
   ]
  },
  {
   "cell_type": "code",
   "execution_count": 70,
   "metadata": {
    "colab": {
     "autoexec": {
      "startup": false,
      "wait_interval": 0
     },
     "base_uri": "https://localhost:8080/",
     "height": 513
    },
    "colab_type": "code",
    "executionInfo": {
     "elapsed": 29642,
     "status": "ok",
     "timestamp": 1526761315919,
     "user": {
      "displayName": "SRIHA Mohamed",
      "photoUrl": "//lh5.googleusercontent.com/-XM6rLh3fxpo/AAAAAAAAAAI/AAAAAAAAAAA/W_br5yKx7q8/s50-c-k-no/photo.jpg",
      "userId": "101590173883877601113"
     },
     "user_tz": 240
    },
    "id": "3idL3GGp7RFp",
    "outputId": "94dc683c-4b42-4e47-fcd4-c800c1166050"
   },
   "outputs": [
    {
     "name": "stdout",
     "output_type": "stream",
     "text": [
      "\n",
      "Model Report\n",
      "RMSE : 0.4736\n",
      "Coefficient of determination R^2 of the prediction(Score): 0.2543\n",
      "---------------------------\n"
     ]
    },
    {
     "data": {
      "image/png": "[encoded data removed]",
      "text/plain": [
       "<matplotlib.figure.Figure at 0x1bb0101e160>"
      ]
     },
     "metadata": {},
     "output_type": "display_data"
    }
   ],
   "source": [
    "modelfit(gbr1.best_estimator_,y_train,X_train,y_test,X_test)"
   ]
  },
  {
   "cell_type": "markdown",
   "metadata": {},
   "source": [
    "### Make Estimation on real test data (Hidden labels)"
   ]
  },
  {
   "cell_type": "code",
   "execution_count": 71,
   "metadata": {},
   "outputs": [
    {
     "data": {
      "text/plain": [
       "array([1.9951907 , 1.99579227, 2.00695735, ..., 2.44336698, 2.6442356 ,\n",
       "       2.66138224])"
      ]
     },
     "execution_count": 71,
     "metadata": {},
     "output_type": "execute_result"
    }
   ],
   "source": [
    "#Predicted labels\n",
    "submission_lr = np.round_(gbr1.predict(X_t),decimals=2)\n",
    "np.savetxt(\"submission_lr125.csv\",submission_lr, delimiter=\",\")\n",
    "# A sample of the predicted labels.\n",
    "gbr1.predict(X_t)"
   ]
  },
  {
   "cell_type": "markdown",
   "metadata": {},
   "source": [
    "### 4th Submission on Kaggle."
   ]
  },
  {
   "cell_type": "markdown",
   "metadata": {},
   "source": [
    "<img src='Capture125.jpg'></img>"
   ]
  },
  {
   "cell_type": "markdown",
   "metadata": {},
   "source": [
    "The good news is that the Gradient Booster overfits less than the Random Forest model. However, tunning the Gradient Booster consumes a lot of time and GPU performance. \n",
    "\n",
    "Another model is the XGBoost Regressor, a Kaggle winning-estimator. One of the pros of the XGBoost is that it supports regression as classification problems, has plenty of parameters to adjust its bias/variance or time needed to fit and learn. Which what we are looking the most for. **Time and performance**."
   ]
  },
  {
   "cell_type": "markdown",
   "metadata": {},
   "source": [
    "### XGBoost"
   ]
  },
  {
   "cell_type": "markdown",
   "metadata": {},
   "source": [
    "Below is an example how to use `scikit-learn`'s `RandomizedSearchCV` with XGBoost with some starting distributions."
   ]
  },
  {
   "cell_type": "markdown",
   "metadata": {},
   "source": [
    "### Define the model"
   ]
  },
  {
   "cell_type": "code",
   "execution_count": 77,
   "metadata": {},
   "outputs": [],
   "source": [
    "from xgboost.sklearn import XGBRegressor \n",
    "import scipy.stats as st\n",
    "\n",
    "params = {  \n",
    "    \"n_estimators\": st.randint(3, 200),\n",
    "    \"max_depth\": st.randint(3, 40),\n",
    "    \"learning_rate\": st.uniform(0.05, 0.4),\n",
    "    \"gamma\": st.uniform(0, 10),\n",
    "}"
   ]
  },
  {
   "cell_type": "markdown",
   "metadata": {},
   "source": [
    "and then just plug it into RS."
   ]
  },
  {
   "cell_type": "code",
   "execution_count": 78,
   "metadata": {},
   "outputs": [],
   "source": [
    "xgbreg = XGBRegressor(nthreads=-1) "
   ]
  },
  {
   "cell_type": "markdown",
   "metadata": {},
   "source": [
    "As you can see, we use `nthreads=-1` and `n_jobs=1`. `nthreads` should be  called n_jobs to follow sklearn conventions, but currently it is not. We explicitly mentioned this here because in the other models we usually set Search's `n_jobs=-1`, but here it would mean that XGBoost would run thread for every CPU + RS would create job for every CPU, effectively wasting cores by switching between N*N processes instead of just N."
   ]
  },
  {
   "cell_type": "markdown",
   "metadata": {},
   "source": [
    "### Train the pipeline on training data"
   ]
  },
  {
   "cell_type": "code",
   "execution_count": 79,
   "metadata": {},
   "outputs": [
    {
     "data": {
      "text/plain": [
       "RandomizedSearchCV(cv=None, error_score='raise',\n",
       "          estimator=XGBRegressor(base_score=0.5, booster='gbtree', colsample_bylevel=1,\n",
       "       colsample_bytree=1, gamma=0, learning_rate=0.1, max_delta_step=0,\n",
       "       max_depth=3, min_child_weight=1, missing=None, n_estimators=100,\n",
       "       n_jobs=1, nthread=None, nthreads=-1, objective='reg:linear',\n",
       "       random_state=0, reg_alpha=0, reg_lambda=1, scale_pos_weight=1,\n",
       "       seed=None, silent=True, subsample=1),\n",
       "          fit_params=None, iid=True, n_iter=10, n_jobs=1,\n",
       "          param_distributions={'n_estimators': <scipy.stats._distn_infrastructure.rv_frozen object at 0x000001BB0966F668>, 'max_depth': <scipy.stats._distn_infrastructure.rv_frozen object at 0x000001BB0966F978>, 'learning_rate': <scipy.stats._distn_infrastructure.rv_frozen object at 0x000001BB0966FBA8>, 'gamma': <scipy.stats._distn_infrastructure.rv_frozen object at 0x000001BB0966FE48>},\n",
       "          pre_dispatch='2*n_jobs', random_state=None, refit=True,\n",
       "          return_train_score='warn', scoring=None, verbose=0)"
      ]
     },
     "execution_count": 79,
     "metadata": {},
     "output_type": "execute_result"
    }
   ],
   "source": [
    "from sklearn.model_selection import RandomizedSearchCV\n",
    "\n",
    "gs = RandomizedSearchCV(xgbreg, params, n_jobs=1)  \n",
    "gs.fit(X_train, y_train)  "
   ]
  },
  {
   "cell_type": "code",
   "execution_count": 80,
   "metadata": {},
   "outputs": [
    {
     "name": "stdout",
     "output_type": "stream",
     "text": [
      "\n",
      "Model Report\n",
      "RMSE : 0.4706\n",
      "Coefficient of determination R^2 of the prediction(Score): 0.5169\n",
      "---------------------------\n"
     ]
    },
    {
     "data": {
      "image/png": "[encoded data removed]",
      "text/plain": [
       "<matplotlib.figure.Figure at 0x1bb0966f438>"
      ]
     },
     "metadata": {},
     "output_type": "display_data"
    }
   ],
   "source": [
    "modelfit(gs.best_estimator_,y_train,X_train,y_test,X_test)"
   ]
  },
  {
   "cell_type": "code",
   "execution_count": 83,
   "metadata": {},
   "outputs": [
    {
     "data": {
      "text/plain": [
       "array([2.0260482, 2.1210508, 1.9983585, ..., 2.5652285, 2.6294148,\n",
       "       2.621131 ], dtype=float32)"
      ]
     },
     "execution_count": 83,
     "metadata": {},
     "output_type": "execute_result"
    }
   ],
   "source": [
    "#Predicted labels\n",
    "submission_lr = np.round_(gs.predict(X_t),decimals=2)\n",
    "np.savetxt(\"submission_lr128.csv\",submission_lr, delimiter=\",\")\n",
    "# A sample of the predicted labels.\n",
    "gs.predict(X_t)"
   ]
  },
  {
   "cell_type": "markdown",
   "metadata": {},
   "source": [
    "### 5th Submission on kaggle"
   ]
  },
  {
   "cell_type": "markdown",
   "metadata": {},
   "source": [
    "<img src='Capture127.jpg'></img>"
   ]
  },
  {
   "cell_type": "markdown",
   "metadata": {},
   "source": [
    "Time goes fast with XGBoost. Also the result in the test set is slightly better than the Gradient Boosting Regressor."
   ]
  },
  {
   "cell_type": "markdown",
   "metadata": {
    "colab_type": "text",
    "id": "aiX3ZRHVEupa"
   },
   "source": [
    "### TensorFlow + Keras (Neural Netwrok)"
   ]
  },
  {
   "cell_type": "markdown",
   "metadata": {},
   "source": [
    "Keras is one of the most popular deep learning libraries in Python for research and development because of its simplicity and ease of use. In fact it strives for minimalism, focusing on only what you need to quickly and simply define and build deep learning models. Also, it provides a convenient wrapper for deep learning models to be used as classification or regression estimators in scikit-learn."
   ]
  },
  {
   "cell_type": "markdown",
   "metadata": {},
   "source": [
    "### Define the model and the libraries"
   ]
  },
  {
   "cell_type": "markdown",
   "metadata": {},
   "source": [
    "In this section we will create a baseline neural network model for the regression problem.\n",
    "\n",
    "Let’s start off by including all of the functions and objects."
   ]
  },
  {
   "cell_type": "code",
   "execution_count": 84,
   "metadata": {
    "colab": {
     "autoexec": {
      "startup": false,
      "wait_interval": 0
     },
     "base_uri": "https://localhost:8080/",
     "height": 35
    },
    "colab_type": "code",
    "executionInfo": {
     "elapsed": 5465,
     "status": "ok",
     "timestamp": 1526711727280,
     "user": {
      "displayName": "SRIHA Mohamed",
      "photoUrl": "//lh5.googleusercontent.com/-XM6rLh3fxpo/AAAAAAAAAAI/AAAAAAAAAAA/W_br5yKx7q8/s50-c-k-no/photo.jpg",
      "userId": "101590173883877601113"
     },
     "user_tz": 240
    },
    "id": "1N5d-ybq93Gu",
    "outputId": "b7c1e4f3-1dc9-4f0f-b372-a3731efaa6c2"
   },
   "outputs": [
    {
     "name": "stderr",
     "output_type": "stream",
     "text": [
      "C:\\Users\\medSr\\AppData\\Local\\Continuum\\anaconda3\\lib\\site-packages\\h5py\\__init__.py:36: FutureWarning: Conversion of the second argument of issubdtype from `float` to `np.floating` is deprecated. In future, it will be treated as `np.float64 == np.dtype(float).type`.\n",
      "  from ._conv import register_converters as _register_converters\n",
      "Using TensorFlow backend.\n"
     ]
    }
   ],
   "source": [
    "from keras.models import Sequential\n",
    "from keras.layers import Dense\n",
    "from keras.wrappers.scikit_learn import KerasRegressor\n",
    "from sklearn.model_selection import cross_val_score\n",
    "from sklearn.model_selection import KFold\n",
    "from sklearn.preprocessing import StandardScaler\n",
    "from sklearn.pipeline import Pipeline"
   ]
  },
  {
   "cell_type": "markdown",
   "metadata": {
    "colab_type": "text",
    "id": "qHtYu_sqTl-q"
   },
   "source": [
    "Developing a Neural Net using keras on top of TensorFlow  is much easier and more user firendly."
   ]
  },
  {
   "cell_type": "markdown",
   "metadata": {
    "colab_type": "text",
    "id": "ORwlKM5kCsIz"
   },
   "source": [
    "### Train the pipeline on training data¶"
   ]
  },
  {
   "cell_type": "markdown",
   "metadata": {
    "colab_type": "text",
    "id": "m1qjc8p8BUIA"
   },
   "source": [
    "**Modeling The Standardized Dataset**"
   ]
  },
  {
   "cell_type": "markdown",
   "metadata": {},
   "source": [
    "Blow we define a function `create_model()` that create a simple multi-layer neural network for the problem."
   ]
  },
  {
   "cell_type": "code",
   "execution_count": 85,
   "metadata": {
    "colab": {
     "autoexec": {
      "startup": false,
      "wait_interval": 0
     }
    },
    "colab_type": "code",
    "id": "dQiqKFpfOkeQ"
   },
   "outputs": [],
   "source": [
    "# define base model\n",
    "def baseline_model():\n",
    "    # create model\n",
    "    model = Sequential()\n",
    "    model.add(Dense(30, input_dim=30, kernel_initializer='normal', activation='relu'))\n",
    "    model.add(Dense(1, kernel_initializer='normal'))\n",
    "    # Compile model\n",
    "    model.compile(loss='mean_squared_error', optimizer='adam')\n",
    "    return model"
   ]
  },
  {
   "cell_type": "markdown",
   "metadata": {},
   "source": [
    "We pass this function name to the KerasRegressor class by the `build_fn` argument. We also pass in additional arguments of nb_epoch=50 and batch_size=5. These are automatically bundled up and passed on to the `fit()` function which is called internally by the KerasRegressor class."
   ]
  },
  {
   "cell_type": "code",
   "execution_count": 86,
   "metadata": {
    "colab": {
     "autoexec": {
      "startup": false,
      "wait_interval": 0
     }
    },
    "colab_type": "code",
    "id": "rrHZu2HPLoCe"
   },
   "outputs": [],
   "source": [
    "# fix random seed for reproducibility\n",
    "seed = 7\n",
    "np.random.seed(seed)\n",
    "# evaluate model with standardized dataset\n",
    "estimator = KerasRegressor(build_fn=baseline_model, epochs=50, batch_size=5, verbose=0)"
   ]
  },
  {
   "cell_type": "markdown",
   "metadata": {},
   "source": [
    "### Train the pipeline on training data"
   ]
  },
  {
   "cell_type": "code",
   "execution_count": 87,
   "metadata": {
    "colab": {
     "autoexec": {
      "startup": false,
      "wait_interval": 0
     },
     "base_uri": "https://localhost:8080/",
     "height": 793
    },
    "colab_type": "code",
    "executionInfo": {
     "elapsed": 471,
     "status": "error",
     "timestamp": 1526711728496,
     "user": {
      "displayName": "SRIHA Mohamed",
      "photoUrl": "//lh5.googleusercontent.com/-XM6rLh3fxpo/AAAAAAAAAAI/AAAAAAAAAAA/W_br5yKx7q8/s50-c-k-no/photo.jpg",
      "userId": "101590173883877601113"
     },
     "user_tz": 240
    },
    "id": "bCf1mgOMLyx_",
    "outputId": "da887eb9-ccc2-4d16-f4a0-6116c78c8611"
   },
   "outputs": [
    {
     "data": {
      "text/plain": [
       "<keras.callbacks.History at 0x1bc07f21f60>"
      ]
     },
     "execution_count": 87,
     "metadata": {},
     "output_type": "execute_result"
    }
   ],
   "source": [
    "estimator.fit(X_train,y_train)"
   ]
  },
  {
   "cell_type": "code",
   "execution_count": 88,
   "metadata": {
    "colab": {
     "autoexec": {
      "startup": false,
      "wait_interval": 0
     }
    },
    "colab_type": "code",
    "id": "KLrb6vokL0eN"
   },
   "outputs": [],
   "source": [
    "prediction = estimator.predict(X_test)"
   ]
  },
  {
   "cell_type": "code",
   "execution_count": 89,
   "metadata": {
    "colab": {
     "autoexec": {
      "startup": false,
      "wait_interval": 0
     }
    },
    "colab_type": "code",
    "id": "f3N-nYqcktGP"
   },
   "outputs": [
    {
     "name": "stdout",
     "output_type": "stream",
     "text": [
      "RMSE: 0.4836\n"
     ]
    }
   ],
   "source": [
    "#RMSE for the KerasRegressor model\n",
    "print(\"RMSE: %.4g\" % np.sqrt(mean_squared_error(y_test,prediction)))"
   ]
  },
  {
   "cell_type": "markdown",
   "metadata": {
    "colab_type": "text",
    "id": "0ulYzIah7UDE"
   },
   "source": [
    "**Evaluate a Deeper Network Topology**"
   ]
  },
  {
   "cell_type": "markdown",
   "metadata": {},
   "source": [
    "One way to improve the performance a neural network is to add more layers. This might allow the model to extract and recombine higher order features embedded in the data.\n",
    "\n",
    "In this section we will evaluate the effect of adding one more hidden layer to the model. This is as easy as defining a new function that will create this deeper model, copied from our baseline model above. We can then insert a new line after the first hidden layer. In this case with about half the number of neurons."
   ]
  },
  {
   "cell_type": "code",
   "execution_count": 90,
   "metadata": {
    "colab": {
     "autoexec": {
      "startup": false,
      "wait_interval": 0
     }
    },
    "colab_type": "code",
    "id": "FJSY-kbG6kLA"
   },
   "outputs": [],
   "source": [
    "# define the model\n",
    "def larger_model():\n",
    "    # create model\n",
    "    model = Sequential()\n",
    "    model.add(Dense(30, input_dim=30, kernel_initializer='normal', activation='relu'))\n",
    "    model.add(Dense(6, kernel_initializer='normal', activation='relu'))\n",
    "    model.add(Dense(1, kernel_initializer='normal'))\n",
    "    # Compile model\n",
    "    model.compile(loss='mean_squared_error', optimizer='adam')\n",
    "    return model"
   ]
  },
  {
   "cell_type": "markdown",
   "metadata": {},
   "source": [
    "We can evaluate this network topology in the same way as above, whilst also using the standardization of the dataset that above was shown to improve performance."
   ]
  },
  {
   "cell_type": "code",
   "execution_count": 91,
   "metadata": {
    "colab": {
     "autoexec": {
      "startup": false,
      "wait_interval": 0
     }
    },
    "colab_type": "code",
    "id": "9MjgBw6y7cRw"
   },
   "outputs": [
    {
     "data": {
      "text/plain": [
       "<keras.callbacks.History at 0x1bc0ee57e48>"
      ]
     },
     "execution_count": 91,
     "metadata": {},
     "output_type": "execute_result"
    }
   ],
   "source": [
    "np.random.seed(seed)\n",
    "estimators = []\n",
    "estimators.append(('standardize', StandardScaler()))\n",
    "estimators.append(('mlp', KerasRegressor(build_fn=larger_model, epochs=50, batch_size=5, verbose=1)))\n",
    "estimator.fit(X_train,y_train)\n"
   ]
  },
  {
   "cell_type": "code",
   "execution_count": 92,
   "metadata": {
    "colab": {
     "autoexec": {
      "startup": false,
      "wait_interval": 0
     }
    },
    "colab_type": "code",
    "id": "kPzzgOTaHPEu"
   },
   "outputs": [],
   "source": [
    "prediction1 = estimator.predict(X_test)"
   ]
  },
  {
   "cell_type": "code",
   "execution_count": 93,
   "metadata": {
    "colab": {
     "autoexec": {
      "startup": false,
      "wait_interval": 0
     }
    },
    "colab_type": "code",
    "id": "5JMm7fXv7tWK"
   },
   "outputs": [
    {
     "name": "stdout",
     "output_type": "stream",
     "text": [
      "RMSE: 0.4844\n"
     ]
    }
   ],
   "source": [
    "#RMSE for the KerasRegressor model\n",
    "print(\"RMSE: %.4g\" % np.sqrt(mean_squared_error(y_test,prediction1)))"
   ]
  },
  {
   "cell_type": "markdown",
   "metadata": {},
   "source": [
    "### Conclusion"
   ]
  },
  {
   "cell_type": "markdown",
   "metadata": {},
   "source": [
    "Buyers rely on Home Depot’s product to find and buy the latest products and to get appropriate solutions to their home remodeling needs. When searching for a specific product, customers expect the correct results to their queries – quickly. Speed, accuracy and delivering an enjoyable customer experience are essential. Here where Machine Learning and Big Data come up.  Knowing the preference of our customers is all about data. To offer the best experience, we need to know which product our customer prefers the most.  A lot of data, yes, thanks to the current technology which can allow for a fast processing such as the available cloud services or the Hadoop and Spark ecosystem. Plus, Machine Learning is an exciting, proven concept that allows computers to figure things out for themselves. Instead of every action being explicitly coded by a human which can be costly. "
   ]
  },
  {
   "cell_type": "markdown",
   "metadata": {},
   "source": [
    "### Reference"
   ]
  },
  {
   "cell_type": "markdown",
   "metadata": {},
   "source": [
    "- Wikipedia.com \n",
    "- Kaggle.com\n",
    "- Quora.com\n",
    "- stackoverflow.com"
   ]
  }
 ],
 "metadata": {
  "colab": {
   "collapsed_sections": [],
   "default_view": {},
   "name": "Home_Depot draft.ipynb",
   "provenance": [],
   "version": "0.3.2",
   "views": {}
  },
  "kernelspec": {
   "display_name": "Python 3",
   "language": "python",
   "name": "python3"
  },
  "language_info": {
   "codemirror_mode": {
    "name": "ipython",
    "version": 3
   },
   "file_extension": ".py",
   "mimetype": "text/x-python",
   "name": "python",
   "nbconvert_exporter": "python",
   "pygments_lexer": "ipython3",
   "version": "3.6.1"
  }
 },
 "nbformat": 4,
 "nbformat_minor": 1
}
